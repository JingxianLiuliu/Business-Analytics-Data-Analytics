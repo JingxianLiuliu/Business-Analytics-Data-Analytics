{
 "cells": [
  {
   "cell_type": "markdown",
   "metadata": {
    "id": "3z7sF7gvxTke"
   },
   "source": [
    "# Part 0 Load packages, load data\n"
   ]
  },
  {
   "cell_type": "code",
   "execution_count": null,
   "metadata": {
    "id": "AfZpbClJ8ljR"
   },
   "outputs": [],
   "source": [
    "#import neccessary libraries\n",
    "import numpy as np\n",
    "import pandas as pd\n",
    "import sklearn as sl\n",
    "import sklearn.preprocessing as preprocessing\n",
    "from sklearn.model_selection import train_test_split\n",
    "import seaborn as sns\n",
    "import matplotlib.pyplot as plt\n",
    "pd.set_option('display.float_format', lambda x: '%.3f' % x)\n",
    "pd.set_option('display.max_columns',None)\n",
    "pd.set_option('display.max_rows',None)\n",
    "pd.set_option('max_colwidth',100)\n"
   ]
  },
  {
   "cell_type": "code",
   "execution_count": null,
   "metadata": {
    "colab": {
     "base_uri": "https://localhost:8080/",
     "height": 72,
     "resources": {
      "http://localhost:8080/nbextensions/google.colab/files.js": {
       "data": "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",
       "headers": [
        [
         "content-type",
         "application/javascript"
        ]
       ],
       "ok": true,
       "status": 200,
       "status_text": ""
      }
     }
    },
    "executionInfo": {
     "elapsed": 12463,
     "status": "ok",
     "timestamp": 1599579416463,
     "user": {
      "displayName": "Alex A",
      "photoUrl": "",
      "userId": "11487044901198504808"
     },
     "user_tz": 420
    },
    "id": "dkksVl1cqw3W",
    "outputId": "d93f279a-96ed-41a0-96fb-3fc9c182bf16"
   },
   "outputs": [
    {
     "data": {
      "text/html": [
       "\n",
       "     <input type=\"file\" id=\"files-677973b3-2094-48df-85eb-e3044538ffd2\" name=\"files[]\" multiple disabled\n",
       "        style=\"border:none\" />\n",
       "     <output id=\"result-677973b3-2094-48df-85eb-e3044538ffd2\">\n",
       "      Upload widget is only available when the cell has been executed in the\n",
       "      current browser session. Please rerun this cell to enable.\n",
       "      </output>\n",
       "      <script src=\"/nbextensions/google.colab/files.js\"></script> "
      ],
      "text/plain": [
       "<IPython.core.display.HTML object>"
      ]
     },
     "metadata": {
      "tags": []
     },
     "output_type": "display_data"
    },
    {
     "name": "stdout",
     "output_type": "stream",
     "text": [
      "Saving TVdata.txt to TVdata.txt\n"
     ]
    }
   ],
   "source": [
    "from google.colab import files\n",
    "uploaded = files.upload()"
   ]
  },
  {
   "cell_type": "code",
   "execution_count": null,
   "metadata": {
    "colab": {
     "base_uri": "https://localhost:8080/",
     "height": 605
    },
    "executionInfo": {
     "elapsed": 12656,
     "status": "ok",
     "timestamp": 1599579416691,
     "user": {
      "displayName": "Alex A",
      "photoUrl": "",
      "userId": "11487044901198504808"
     },
     "user_tz": 420
    },
    "id": "-wJBauQaI6QZ",
    "outputId": "cb70a10e-7923-4c37-bcef-6d0d5759d5a7"
   },
   "outputs": [
    {
     "name": "stdout",
     "output_type": "stream",
     "text": [
      "   video_id  cvt_per_day  weighted_categorical_position  \\\n",
      "0    385504   307127.606                              1   \n",
      "1    300175   270338.426                              1   \n",
      "2    361899   256165.867                              1   \n",
      "3    308314   196622.721                              3   \n",
      "4    307201   159841.652                              1   \n",
      "\n",
      "   weighted_horizontal_poition  import_id  release_year  \\\n",
      "0                            3  lionsgate          2013   \n",
      "1                            3  lionsgate          2013   \n",
      "2                            3      other          2012   \n",
      "3                            4  lionsgate          2008   \n",
      "4                            3  lionsgate          2013   \n",
      "\n",
      "                                          genres  imdb_votes    budget  \\\n",
      "0                          Action,Thriller,Drama       69614  15000000   \n",
      "1                          Comedy,Crime,Thriller       46705  15000000   \n",
      "2                                    Crime,Drama      197596  26000000   \n",
      "3  Thriller,Drama,War,Documentary,Mystery,Action      356339  15000000   \n",
      "4             Crime,Thriller,Mystery,Documentary       46720  27220000   \n",
      "\n",
      "   boxoffice  imdb_rating  duration_in_mins  metacritic_score       awards  \\\n",
      "0   42930462        6.500           112.301                51  other award   \n",
      "1    3301046        6.500            94.983                41     no award   \n",
      "2   37397291        7.300           115.764                58  other award   \n",
      "3   15700000        7.600           130.704                94        Oscar   \n",
      "4    8551228        6.400           105.546                37  other award   \n",
      "\n",
      "    mpaa  star_category  \n",
      "0  PG-13          1.710  \n",
      "1      R          3.250  \n",
      "2      R          2.647  \n",
      "3      R          1.667  \n",
      "4      R          3.067  \n"
     ]
    }
   ],
   "source": [
    "TV=pd.read_table('TVdata.txt',header=0,sep=',',lineterminator='\\n')\n",
    "print(TV.head())"
   ]
  },
  {
   "cell_type": "markdown",
   "metadata": {
    "id": "3ES81w8WA2Wk"
   },
   "source": [
    "# Part 1: Data Exploration"
   ]
  },
  {
   "cell_type": "markdown",
   "metadata": {
    "id": "CDv2MT3gBO70"
   },
   "source": [
    "## 1.1 Exclude erroneous data"
   ]
  },
  {
   "cell_type": "markdown",
   "metadata": {
    "id": "vDXp_OnZyRn6"
   },
   "source": [
    "Each video should only appear once in the list, duplicated video will be removed."
   ]
  },
  {
   "cell_type": "code",
   "execution_count": null,
   "metadata": {
    "colab": {
     "base_uri": "https://localhost:8080/",
     "height": 35
    },
    "executionInfo": {
     "elapsed": 12643,
     "status": "ok",
     "timestamp": 1599579416692,
     "user": {
      "displayName": "Alex A",
      "photoUrl": "",
      "userId": "11487044901198504808"
     },
     "user_tz": 420
    },
    "id": "oyum-AqDATd3",
    "outputId": "0258f060-1f7f-4365-b609-9e6dce776e1d"
   },
   "outputs": [
    {
     "name": "stdout",
     "output_type": "stream",
     "text": [
      "no duplicated index\n"
     ]
    }
   ],
   "source": [
    "if TV['video_id'].duplicated().sum()==0:\n",
    "  print('no duplicated index')"
   ]
  },
  {
   "cell_type": "markdown",
   "metadata": {
    "id": "v-N2W8E1ybr2"
   },
   "source": [
    "## 1.2 Understand numerical features"
   ]
  },
  {
   "cell_type": "markdown",
   "metadata": {
    "id": "i6DmON1TyoYw"
   },
   "source": [
    "### 1.2.1 Overview"
   ]
  },
  {
   "cell_type": "code",
   "execution_count": null,
   "metadata": {
    "colab": {
     "base_uri": "https://localhost:8080/",
     "height": 1000
    },
    "executionInfo": {
     "elapsed": 12636,
     "status": "ok",
     "timestamp": 1599579416693,
     "user": {
      "displayName": "Alex A",
      "photoUrl": "",
      "userId": "11487044901198504808"
     },
     "user_tz": 420
    },
    "id": "CJcon31EF26u",
    "outputId": "6243de10-2eaf-49da-9925-570dee9e0627"
   },
   "outputs": [
    {
     "name": "stdout",
     "output_type": "stream",
     "text": [
      "<class 'pandas.core.frame.DataFrame'>\n",
      "RangeIndex: 4226 entries, 0 to 4225\n",
      "Data columns (total 16 columns):\n",
      " #   Column                         Non-Null Count  Dtype  \n",
      "---  ------                         --------------  -----  \n",
      " 0   video_id                       4226 non-null   int64  \n",
      " 1   cvt_per_day                    4226 non-null   float64\n",
      " 2   weighted_categorical_position  4226 non-null   int64  \n",
      " 3   weighted_horizontal_poition    4226 non-null   int64  \n",
      " 4   import_id                      4226 non-null   object \n",
      " 5   release_year                   4226 non-null   int64  \n",
      " 6   genres                         4226 non-null   object \n",
      " 7   imdb_votes                     4226 non-null   int64  \n",
      " 8   budget                         4226 non-null   int64  \n",
      " 9   boxoffice                      4226 non-null   int64  \n",
      " 10  imdb_rating                    4226 non-null   float64\n",
      " 11  duration_in_mins               4226 non-null   float64\n",
      " 12  metacritic_score               4226 non-null   int64  \n",
      " 13  awards                         4226 non-null   object \n",
      " 14  mpaa                           4226 non-null   object \n",
      " 15  star_category                  4226 non-null   float64\n",
      "dtypes: float64(4), int64(8), object(4)\n",
      "memory usage: 528.4+ KB\n",
      "       cvt_per_day  weighted_categorical_position  \\\n",
      "count     4226.000                       4226.000   \n",
      "mean      4218.630                          7.783   \n",
      "std      13036.080                          6.134   \n",
      "min          2.188                          1.000   \n",
      "10%        141.985                          3.000   \n",
      "25%        351.169                          4.000   \n",
      "50%       1193.500                          6.000   \n",
      "75%       3356.789                          9.000   \n",
      "95%      14692.834                         22.000   \n",
      "max     307127.606                         41.000   \n",
      "\n",
      "       weighted_horizontal_poition  imdb_votes        budget     boxoffice  \\\n",
      "count                     4226.000    4226.000      4226.000      4226.000   \n",
      "mean                        28.104    6462.924   2150743.439   2536338.472   \n",
      "std                         11.864   31596.007   7176604.483   8243516.266   \n",
      "min                          1.000       0.000         0.000         0.000   \n",
      "10%                         13.000       8.000         0.000         0.000   \n",
      "25%                         20.000      81.000         0.000         0.000   \n",
      "50%                         28.000     535.000         0.000         0.000   \n",
      "75%                         36.000    3053.000   1500000.000         0.000   \n",
      "95%                         48.000   26199.500  12000000.000   8551228.000   \n",
      "max                         70.000  948630.000 107000000.000 184208848.000   \n",
      "\n",
      "       imdb_rating  duration_in_mins  metacritic_score  star_category  \n",
      "count     4226.000          4226.000          4226.000       4226.000  \n",
      "mean         5.257            89.556            15.974          0.955  \n",
      "std          2.123            21.086            26.205          0.955  \n",
      "min          0.000             4.037             0.000          0.000  \n",
      "10%          2.300            62.391             0.000          0.000  \n",
      "25%          4.300            82.602             0.000          0.000  \n",
      "50%          5.800            90.730             0.000          1.000  \n",
      "75%          6.800            99.500            41.000          1.667  \n",
      "95%          7.800           119.131            65.000          2.597  \n",
      "max         10.000           246.017           100.000          4.000  \n"
     ]
    },
    {
     "data": {
      "text/plain": [
       "video_id                        0.000\n",
       "cvt_per_day                     0.000\n",
       "weighted_categorical_position   0.000\n",
       "weighted_horizontal_poition     0.000\n",
       "import_id                       0.000\n",
       "release_year                    0.000\n",
       "genres                          0.000\n",
       "imdb_votes                      0.081\n",
       "budget                          0.581\n",
       "boxoffice                       0.756\n",
       "imdb_rating                     0.081\n",
       "duration_in_mins                0.000\n",
       "metacritic_score                0.713\n",
       "awards                          0.000\n",
       "mpaa                            0.000\n",
       "star_category                   0.437\n",
       "dtype: float64"
      ]
     },
     "execution_count": 8,
     "metadata": {
      "tags": []
     },
     "output_type": "execute_result"
    }
   ],
   "source": [
    "TV.info()\n",
    "print(TV.drop(columns=['video_id','release_year'],axis=1).describe(percentiles=[0.1,0.25,0.5,0.75,0.95]))\n",
    "(TV==0).sum(axis=0)/TV.shape[0]"
   ]
  },
  {
   "cell_type": "markdown",
   "metadata": {
    "id": "spQmT1ZHyjVe"
   },
   "source": [
    "### 1.2.2 cvt_per_day feature"
   ]
  },
  {
   "cell_type": "code",
   "execution_count": null,
   "metadata": {
    "colab": {
     "base_uri": "https://localhost:8080/",
     "height": 296
    },
    "executionInfo": {
     "elapsed": 14071,
     "status": "ok",
     "timestamp": 1599579418151,
     "user": {
      "displayName": "Alex A",
      "photoUrl": "",
      "userId": "11487044901198504808"
     },
     "user_tz": 420
    },
    "id": "e-BkewHWZEYa",
    "outputId": "9d3e9389-4464-46be-e405-542bba3f355c"
   },
   "outputs": [
    {
     "data": {
      "image/png": "[encoded data removed]",
      "text/plain": [
       "<Figure size 432x288 with 1 Axes>"
      ]
     },
     "metadata": {
      "needs_background": "light",
      "tags": []
     },
     "output_type": "display_data"
    }
   ],
   "source": [
    "plt.hist(TV['cvt_per_day'],bins=range(0,15000,30),color='r',label='cvt_per_day',density=True,alpha=0.5)\n",
    "plt.title('Historgrams of cvt_per_day before data processing')\n",
    "plt.legend(loc='upper right')\n",
    "plt.xlabel('cvt_per_day')\n",
    "plt.ylabel('density')\n",
    "plt.show()"
   ]
  },
  {
   "cell_type": "markdown",
   "metadata": {
    "id": "my0LY0Wf0CGb"
   },
   "source": [
    "### 1.2.3 Correlation among numerical features"
   ]
  },
  {
   "cell_type": "code",
   "execution_count": null,
   "metadata": {
    "colab": {
     "base_uri": "https://localhost:8080/",
     "height": 428
    },
    "executionInfo": {
     "elapsed": 14067,
     "status": "ok",
     "timestamp": 1599579418151,
     "user": {
      "displayName": "Alex A",
      "photoUrl": "",
      "userId": "11487044901198504808"
     },
     "user_tz": 420
    },
    "id": "oSBeyIiGfLA8",
    "outputId": "9c975e1f-6cb2-4884-d8e7-e5ea6edd8704"
   },
   "outputs": [
    {
     "data": {
      "text/plain": [
       "<matplotlib.axes._subplots.AxesSubplot at 0x7feb3a5ddf98>"
      ]
     },
     "execution_count": 10,
     "metadata": {
      "tags": []
     },
     "output_type": "execute_result"
    },
    {
     "data": {
      "image/png": "[encoded data removed]",
      "text/plain": [
       "<Figure size 432x288 with 2 Axes>"
      ]
     },
     "metadata": {
      "needs_background": "light",
      "tags": []
     },
     "output_type": "display_data"
    }
   ],
   "source": [
    "corr = TV[['cvt_per_day','weighted_categorical_position','weighted_horizontal_poition'\n",
    "               ,'release_year', 'imdb_votes', 'budget', 'boxoffice' ,'imdb_rating', \n",
    "               'duration_in_mins', 'metacritic_score', 'star_category']].corr()\n",
    "\n",
    "sns.heatmap(corr, cmap=\"YlGnBu\")"
   ]
  },
  {
   "cell_type": "code",
   "execution_count": null,
   "metadata": {
    "colab": {
     "base_uri": "https://localhost:8080/",
     "height": 398
    },
    "executionInfo": {
     "elapsed": 14449,
     "status": "ok",
     "timestamp": 1599579418537,
     "user": {
      "displayName": "Alex A",
      "photoUrl": "",
      "userId": "11487044901198504808"
     },
     "user_tz": 420
    },
    "id": "zKOrme5yfSwc",
    "outputId": "069813f0-3f86-463d-e04a-4acf4a0962b0"
   },
   "outputs": [
    {
     "data": {
      "text/html": [
       "<div>\n",
       "<style scoped>\n",
       "    .dataframe tbody tr th:only-of-type {\n",
       "        vertical-align: middle;\n",
       "    }\n",
       "\n",
       "    .dataframe tbody tr th {\n",
       "        vertical-align: top;\n",
       "    }\n",
       "\n",
       "    .dataframe thead th {\n",
       "        text-align: right;\n",
       "    }\n",
       "</style>\n",
       "<table border=\"1\" class=\"dataframe\">\n",
       "  <thead>\n",
       "    <tr style=\"text-align: right;\">\n",
       "      <th></th>\n",
       "      <th>cvt_per_day</th>\n",
       "      <th>weighted_categorical_position</th>\n",
       "      <th>weighted_horizontal_poition</th>\n",
       "      <th>release_year</th>\n",
       "      <th>imdb_votes</th>\n",
       "      <th>budget</th>\n",
       "      <th>boxoffice</th>\n",
       "      <th>imdb_rating</th>\n",
       "      <th>duration_in_mins</th>\n",
       "      <th>metacritic_score</th>\n",
       "      <th>star_category</th>\n",
       "    </tr>\n",
       "  </thead>\n",
       "  <tbody>\n",
       "    <tr>\n",
       "      <th>cvt_per_day</th>\n",
       "      <td>1.000</td>\n",
       "      <td>-0.148</td>\n",
       "      <td>-0.302</td>\n",
       "      <td>0.046</td>\n",
       "      <td>0.298</td>\n",
       "      <td>0.316</td>\n",
       "      <td>0.312</td>\n",
       "      <td>0.059</td>\n",
       "      <td>0.152</td>\n",
       "      <td>0.249</td>\n",
       "      <td>0.247</td>\n",
       "    </tr>\n",
       "    <tr>\n",
       "      <th>weighted_categorical_position</th>\n",
       "      <td>-0.148</td>\n",
       "      <td>1.000</td>\n",
       "      <td>-0.084</td>\n",
       "      <td>-0.069</td>\n",
       "      <td>-0.064</td>\n",
       "      <td>-0.090</td>\n",
       "      <td>-0.074</td>\n",
       "      <td>-0.116</td>\n",
       "      <td>-0.174</td>\n",
       "      <td>-0.044</td>\n",
       "      <td>-0.123</td>\n",
       "    </tr>\n",
       "    <tr>\n",
       "      <th>weighted_horizontal_poition</th>\n",
       "      <td>-0.302</td>\n",
       "      <td>-0.084</td>\n",
       "      <td>1.000</td>\n",
       "      <td>0.027</td>\n",
       "      <td>-0.221</td>\n",
       "      <td>-0.211</td>\n",
       "      <td>-0.245</td>\n",
       "      <td>-0.162</td>\n",
       "      <td>-0.102</td>\n",
       "      <td>-0.255</td>\n",
       "      <td>-0.168</td>\n",
       "    </tr>\n",
       "    <tr>\n",
       "      <th>release_year</th>\n",
       "      <td>0.046</td>\n",
       "      <td>-0.069</td>\n",
       "      <td>0.027</td>\n",
       "      <td>1.000</td>\n",
       "      <td>-0.083</td>\n",
       "      <td>-0.040</td>\n",
       "      <td>-0.128</td>\n",
       "      <td>-0.199</td>\n",
       "      <td>-0.097</td>\n",
       "      <td>-0.167</td>\n",
       "      <td>-0.198</td>\n",
       "    </tr>\n",
       "    <tr>\n",
       "      <th>imdb_votes</th>\n",
       "      <td>0.298</td>\n",
       "      <td>-0.064</td>\n",
       "      <td>-0.221</td>\n",
       "      <td>-0.083</td>\n",
       "      <td>1.000</td>\n",
       "      <td>0.273</td>\n",
       "      <td>0.531</td>\n",
       "      <td>0.163</td>\n",
       "      <td>0.156</td>\n",
       "      <td>0.322</td>\n",
       "      <td>0.225</td>\n",
       "    </tr>\n",
       "    <tr>\n",
       "      <th>budget</th>\n",
       "      <td>0.316</td>\n",
       "      <td>-0.090</td>\n",
       "      <td>-0.211</td>\n",
       "      <td>-0.040</td>\n",
       "      <td>0.273</td>\n",
       "      <td>1.000</td>\n",
       "      <td>0.505</td>\n",
       "      <td>0.106</td>\n",
       "      <td>0.251</td>\n",
       "      <td>0.315</td>\n",
       "      <td>0.322</td>\n",
       "    </tr>\n",
       "    <tr>\n",
       "      <th>boxoffice</th>\n",
       "      <td>0.312</td>\n",
       "      <td>-0.074</td>\n",
       "      <td>-0.245</td>\n",
       "      <td>-0.128</td>\n",
       "      <td>0.531</td>\n",
       "      <td>0.505</td>\n",
       "      <td>1.000</td>\n",
       "      <td>0.164</td>\n",
       "      <td>0.226</td>\n",
       "      <td>0.465</td>\n",
       "      <td>0.322</td>\n",
       "    </tr>\n",
       "    <tr>\n",
       "      <th>imdb_rating</th>\n",
       "      <td>0.059</td>\n",
       "      <td>-0.116</td>\n",
       "      <td>-0.162</td>\n",
       "      <td>-0.199</td>\n",
       "      <td>0.163</td>\n",
       "      <td>0.106</td>\n",
       "      <td>0.164</td>\n",
       "      <td>1.000</td>\n",
       "      <td>0.344</td>\n",
       "      <td>0.347</td>\n",
       "      <td>0.192</td>\n",
       "    </tr>\n",
       "    <tr>\n",
       "      <th>duration_in_mins</th>\n",
       "      <td>0.152</td>\n",
       "      <td>-0.174</td>\n",
       "      <td>-0.102</td>\n",
       "      <td>-0.097</td>\n",
       "      <td>0.156</td>\n",
       "      <td>0.251</td>\n",
       "      <td>0.226</td>\n",
       "      <td>0.344</td>\n",
       "      <td>1.000</td>\n",
       "      <td>0.327</td>\n",
       "      <td>0.309</td>\n",
       "    </tr>\n",
       "    <tr>\n",
       "      <th>metacritic_score</th>\n",
       "      <td>0.249</td>\n",
       "      <td>-0.044</td>\n",
       "      <td>-0.255</td>\n",
       "      <td>-0.167</td>\n",
       "      <td>0.322</td>\n",
       "      <td>0.315</td>\n",
       "      <td>0.465</td>\n",
       "      <td>0.347</td>\n",
       "      <td>0.327</td>\n",
       "      <td>1.000</td>\n",
       "      <td>0.452</td>\n",
       "    </tr>\n",
       "    <tr>\n",
       "      <th>star_category</th>\n",
       "      <td>0.247</td>\n",
       "      <td>-0.123</td>\n",
       "      <td>-0.168</td>\n",
       "      <td>-0.198</td>\n",
       "      <td>0.225</td>\n",
       "      <td>0.322</td>\n",
       "      <td>0.322</td>\n",
       "      <td>0.192</td>\n",
       "      <td>0.309</td>\n",
       "      <td>0.452</td>\n",
       "      <td>1.000</td>\n",
       "    </tr>\n",
       "  </tbody>\n",
       "</table>\n",
       "</div>"
      ],
      "text/plain": [
       "                               cvt_per_day  weighted_categorical_position  \\\n",
       "cvt_per_day                          1.000                         -0.148   \n",
       "weighted_categorical_position       -0.148                          1.000   \n",
       "weighted_horizontal_poition         -0.302                         -0.084   \n",
       "release_year                         0.046                         -0.069   \n",
       "imdb_votes                           0.298                         -0.064   \n",
       "budget                               0.316                         -0.090   \n",
       "boxoffice                            0.312                         -0.074   \n",
       "imdb_rating                          0.059                         -0.116   \n",
       "duration_in_mins                     0.152                         -0.174   \n",
       "metacritic_score                     0.249                         -0.044   \n",
       "star_category                        0.247                         -0.123   \n",
       "\n",
       "                               weighted_horizontal_poition  release_year  \\\n",
       "cvt_per_day                                         -0.302         0.046   \n",
       "weighted_categorical_position                       -0.084        -0.069   \n",
       "weighted_horizontal_poition                          1.000         0.027   \n",
       "release_year                                         0.027         1.000   \n",
       "imdb_votes                                          -0.221        -0.083   \n",
       "budget                                              -0.211        -0.040   \n",
       "boxoffice                                           -0.245        -0.128   \n",
       "imdb_rating                                         -0.162        -0.199   \n",
       "duration_in_mins                                    -0.102        -0.097   \n",
       "metacritic_score                                    -0.255        -0.167   \n",
       "star_category                                       -0.168        -0.198   \n",
       "\n",
       "                               imdb_votes  budget  boxoffice  imdb_rating  \\\n",
       "cvt_per_day                         0.298   0.316      0.312        0.059   \n",
       "weighted_categorical_position      -0.064  -0.090     -0.074       -0.116   \n",
       "weighted_horizontal_poition        -0.221  -0.211     -0.245       -0.162   \n",
       "release_year                       -0.083  -0.040     -0.128       -0.199   \n",
       "imdb_votes                          1.000   0.273      0.531        0.163   \n",
       "budget                              0.273   1.000      0.505        0.106   \n",
       "boxoffice                           0.531   0.505      1.000        0.164   \n",
       "imdb_rating                         0.163   0.106      0.164        1.000   \n",
       "duration_in_mins                    0.156   0.251      0.226        0.344   \n",
       "metacritic_score                    0.322   0.315      0.465        0.347   \n",
       "star_category                       0.225   0.322      0.322        0.192   \n",
       "\n",
       "                               duration_in_mins  metacritic_score  \\\n",
       "cvt_per_day                               0.152             0.249   \n",
       "weighted_categorical_position            -0.174            -0.044   \n",
       "weighted_horizontal_poition              -0.102            -0.255   \n",
       "release_year                             -0.097            -0.167   \n",
       "imdb_votes                                0.156             0.322   \n",
       "budget                                    0.251             0.315   \n",
       "boxoffice                                 0.226             0.465   \n",
       "imdb_rating                               0.344             0.347   \n",
       "duration_in_mins                          1.000             0.327   \n",
       "metacritic_score                          0.327             1.000   \n",
       "star_category                             0.309             0.452   \n",
       "\n",
       "                               star_category  \n",
       "cvt_per_day                            0.247  \n",
       "weighted_categorical_position         -0.123  \n",
       "weighted_horizontal_poition           -0.168  \n",
       "release_year                          -0.198  \n",
       "imdb_votes                             0.225  \n",
       "budget                                 0.322  \n",
       "boxoffice                              0.322  \n",
       "imdb_rating                            0.192  \n",
       "duration_in_mins                       0.309  \n",
       "metacritic_score                       0.452  \n",
       "star_category                          1.000  "
      ]
     },
     "execution_count": 11,
     "metadata": {
      "tags": []
     },
     "output_type": "execute_result"
    }
   ],
   "source": [
    "corr"
   ]
  },
  {
   "cell_type": "markdown",
   "metadata": {
    "id": "fVUMUbzs0UrM"
   },
   "source": [
    "## 1.3 Understand categorical features"
   ]
  },
  {
   "cell_type": "markdown",
   "metadata": {
    "id": "kFWDC_kmieQX"
   },
   "source": [
    "### 1.3.1 Distribution of standard categorical features"
   ]
  },
  {
   "cell_type": "code",
   "execution_count": null,
   "metadata": {
    "colab": {
     "base_uri": "https://localhost:8080/",
     "height": 1000
    },
    "executionInfo": {
     "elapsed": 15044,
     "status": "ok",
     "timestamp": 1599579419137,
     "user": {
      "displayName": "Alex A",
      "photoUrl": "",
      "userId": "11487044901198504808"
     },
     "user_tz": 420
    },
    "id": "U5Q7QppFfW4P",
    "outputId": "956fd42b-7b2e-4212-f4f0-aa5b97422c5b"
   },
   "outputs": [
    {
     "data": {
      "image/png": "[encoded data removed]",
      "text/plain": [
       "<Figure size 432x288 with 1 Axes>"
      ]
     },
     "metadata": {
      "needs_background": "light",
      "tags": []
     },
     "output_type": "display_data"
    },
    {
     "name": "stdout",
     "output_type": "stream",
     "text": [
      "other        2963\n",
      "lionsgate     677\n",
      "mgm           445\n",
      "paramount     141\n",
      "Name: import_id, dtype: int64\n"
     ]
    },
    {
     "data": {
      "image/png": "[encoded data removed]",
      "text/plain": [
       "<Figure size 432x288 with 1 Axes>"
      ]
     },
     "metadata": {
      "needs_background": "light",
      "tags": []
     },
     "output_type": "display_data"
    },
    {
     "name": "stdout",
     "output_type": "stream",
     "text": [
      "NotRated    2158\n",
      "R           1158\n",
      "PG-13        426\n",
      "PG           353\n",
      "G            125\n",
      "NC-17          6\n",
      "Name: mpaa, dtype: int64\n"
     ]
    },
    {
     "data": {
      "image/png": "[encoded data removed]",
      "text/plain": [
       "<Figure size 432x288 with 1 Axes>"
      ]
     },
     "metadata": {
      "needs_background": "light",
      "tags": []
     },
     "output_type": "display_data"
    },
    {
     "name": "stdout",
     "output_type": "stream",
     "text": [
      "no award        2569\n",
      "other award     1453\n",
      "Oscar            141\n",
      "Golden Globe      44\n",
      "BAFTA             19\n",
      "Name: awards, dtype: int64\n"
     ]
    }
   ],
   "source": [
    "sns.stripplot(x='import_id', y='cvt_per_day', data=TV,jitter=True)\n",
    "plt.show()\n",
    "print(TV['import_id'].value_counts())\n",
    "\n",
    "sns.stripplot(x='mpaa', y='cvt_per_day', data=TV,jitter=True)\n",
    "plt.show()\n",
    "print(TV['mpaa'].value_counts())\n",
    "\n",
    "sns.stripplot(x='awards', y='cvt_per_day', data=TV, jitter=True)\n",
    "plt.show()\n",
    "print(TV['awards'].value_counts())"
   ]
  },
  {
   "cell_type": "markdown",
   "metadata": {
    "id": "fd1SnNRGDshS"
   },
   "source": [
    "After very basic Exploratory Data Analysis, we have to do some data cleaning and data preprocessing.\n",
    "We need three steps to finish  this.\n",
    "First, we need to encode the categorical feature.\n",
    "Second, we need to impute the missing value for both numeric and categorical feature.\n",
    "Third, we need to scale out feature, which can be better for our models' performance.\n",
    "\n"
   ]
  },
  {
   "cell_type": "markdown",
   "metadata": {
    "id": "4HU4Kd_l0lmt"
   },
   "source": [
    "### 1.3.2 Distribution of splited genres"
   ]
  },
  {
   "cell_type": "markdown",
   "metadata": {
    "id": "6p0LW_6K0xpj"
   },
   "source": [
    "Some videos belongs to more than 1 genre, the genre of each video is splited, this would help emphasize the effect of each individual genre."
   ]
  },
  {
   "cell_type": "code",
   "execution_count": null,
   "metadata": {
    "colab": {
     "base_uri": "https://localhost:8080/",
     "height": 861
    },
    "executionInfo": {
     "elapsed": 15324,
     "status": "ok",
     "timestamp": 1599579419432,
     "user": {
      "displayName": "Alex A",
      "photoUrl": "",
      "userId": "11487044901198504808"
     },
     "user_tz": 420
    },
    "id": "I0RXWm-bhlpq",
    "outputId": "bff9ea36-11db-4be3-9dc0-b4ce7c793767"
   },
   "outputs": [
    {
     "name": "stdout",
     "output_type": "stream",
     "text": [
      "Action                    739\n",
      "Adult                       3\n",
      "Adventure                 363\n",
      "Animation                 129\n",
      "Anime                      11\n",
      "Comedy                   1184\n",
      "Crime                     437\n",
      "Documentary               671\n",
      "Drama                    1677\n",
      "Fantasy                   243\n",
      "Foreign/International      64\n",
      "Holiday                     1\n",
      "Horror                    762\n",
      "Independent               393\n",
      "Kids & Family             280\n",
      "LGBT                        2\n",
      "Lifestyle                   7\n",
      "Music                     171\n",
      "Musicals                   68\n",
      "Mystery                   375\n",
      "Reality                     9\n",
      "Romance                   591\n",
      "Sci-Fi                    363\n",
      "Sport                      77\n",
      "Thriller                  879\n",
      "War                       102\n",
      "Western                   102\n",
      "dtype: int64\n"
     ]
    },
    {
     "data": {
      "text/plain": [
       "<matplotlib.axes._subplots.AxesSubplot at 0x7feb372ed8d0>"
      ]
     },
     "execution_count": 13,
     "metadata": {
      "tags": []
     },
     "output_type": "execute_result"
    },
    {
     "data": {
      "image/png": "[encoded data removed]",
      "text/plain": [
       "<Figure size 432x288 with 1 Axes>"
      ]
     },
     "metadata": {
      "needs_background": "light",
      "tags": []
     },
     "output_type": "display_data"
    }
   ],
   "source": [
    "# generes explore, split the genre of each video\n",
    "gen_split = TV['genres'].str.get_dummies(sep=',').sum()\n",
    "print(gen_split)\n",
    "\n",
    "gen_split.sort_values(ascending=False).plot.bar()"
   ]
  },
  {
   "cell_type": "markdown",
   "metadata": {
    "id": "f4DpGwy900nG"
   },
   "source": [
    "### 1.3.3 Distribution of release_year"
   ]
  },
  {
   "cell_type": "markdown",
   "metadata": {
    "id": "WtiAH_7m00tJ"
   },
   "source": [
    "The release year of video varies through a wide range. Considering the popularity of a video usually decays over time, the release_year should be bucketed based on the release_year range."
   ]
  },
  {
   "cell_type": "code",
   "execution_count": null,
   "metadata": {
    "colab": {
     "base_uri": "https://localhost:8080/",
     "height": 296
    },
    "executionInfo": {
     "elapsed": 15722,
     "status": "ok",
     "timestamp": 1599579419834,
     "user": {
      "displayName": "Alex A",
      "photoUrl": "",
      "userId": "11487044901198504808"
     },
     "user_tz": 420
    },
    "id": "2zC-7REjisJ1",
    "outputId": "7fb0a4ac-d76a-4e04-a481-d8a71137bce4"
   },
   "outputs": [
    {
     "data": {
      "image/png": "[encoded data removed]",
      "text/plain": [
       "<Figure size 432x288 with 1 Axes>"
      ]
     },
     "metadata": {
      "needs_background": "light",
      "tags": []
     },
     "output_type": "display_data"
    }
   ],
   "source": [
    "plt.hist(TV['release_year'].values, bins = range(1910, 2017, 1), alpha = 0.5, color='r', label = 'release_year')\n",
    "plt.legend(loc ='upper left')\n",
    "plt.title('Historgrams of release_year before data processing')\n",
    "plt.xlabel('release_year')\n",
    "plt.ylabel('Count')\n",
    "plt.show()\n"
   ]
  },
  {
   "cell_type": "markdown",
   "metadata": {
    "id": "-kAuJlbm1ydZ"
   },
   "source": [
    "# Part 2: Feature Preprocessing"
   ]
  },
  {
   "cell_type": "markdown",
   "metadata": {
    "id": "wHqQu2rK12AH"
   },
   "source": [
    "## 2.1 Categorical features"
   ]
  },
  {
   "cell_type": "markdown",
   "metadata": {
    "id": "VJZSa3w515W6"
   },
   "source": [
    "There are 5 categorical features: import_id, mpaa, awards, genres, and release_year. There is no missing data in them. They can be converted into dummy/indicators.\n",
    "\n",
    "The first 3 have relatively small sub-types, they can be easily converted to dummies.\n",
    "\n",
    "The 'genres' have 27 different sub-types, 6 of them are rarely observed (refer to previous section). It's reasonable to group these 6 into \n",
    "1. Note: a video may have more than one genre, in the feature preprocessing, all genres are handled individually.\n",
    "2. The release_year is binned into 10 buckets based on the year range between 1917 and 2017."
   ]
  },
  {
   "cell_type": "code",
   "execution_count": null,
   "metadata": {
    "id": "NhEq5dXLkkIo"
   },
   "outputs": [],
   "source": [
    "# Convert 3 Categorical variables into dummy variables\n",
    "d_import_id = pd.get_dummies(TV['import_id']).astype(np.int64)\n",
    "d_mpaa = pd.get_dummies(TV['mpaa']).astype(np.int64)\n",
    "d_awards = pd.get_dummies(TV['awards']).astype(np.int64)"
   ]
  },
  {
   "cell_type": "code",
   "execution_count": null,
   "metadata": {
    "id": "-gF0IhvL2Edh"
   },
   "outputs": [],
   "source": [
    "# Convert 'genres' into dummy variables\n",
    "d_genres=TV['genres'].str.get_dummies(sep=',').astype(np.int64)\n",
    "d_genres['Misc_genres']=d_genres['Anime']|d_genres['Reality']|d_genres['Lifestyle']|d_genres['Adult']|d_genres['LGBT']|d_genres['Holiday']\n",
    "d_genres.drop(['Anime', 'Reality','Lifestyle', 'Adult','LGBT','Holiday'], inplace=True, axis=1)"
   ]
  },
  {
   "cell_type": "markdown",
   "metadata": {
    "id": "wRvlpjv5T8wO"
   },
   "source": []
  },
  {
   "cell_type": "code",
   "execution_count": null,
   "metadata": {
    "colab": {
     "base_uri": "https://localhost:8080/",
     "height": 190
    },
    "executionInfo": {
     "elapsed": 16159,
     "status": "ok",
     "timestamp": 1599579420370,
     "user": {
      "displayName": "Alex A",
      "photoUrl": "",
      "userId": "11487044901198504808"
     },
     "user_tz": 420
    },
    "id": "rrYuplqCU4uH",
    "outputId": "8908161f-a4be-4731-d7bc-614354ccb6e8"
   },
   "outputs": [
    {
     "data": {
      "text/plain": [
       "0.100   1974.000\n",
       "0.200   1991.000\n",
       "0.300   2001.000\n",
       "0.400   2006.000\n",
       "0.500   2008.000\n",
       "0.600   2010.000\n",
       "0.700   2012.000\n",
       "0.800   2013.000\n",
       "0.900   2014.000\n",
       "Name: release_year, dtype: float64"
      ]
     },
     "execution_count": 17,
     "metadata": {
      "tags": []
     },
     "output_type": "execute_result"
    }
   ],
   "source": [
    "TV['release_year'].quantile([0.1,0.2,0.3,0.4,0.5,0.6,0.7,0.8,0.9])"
   ]
  },
  {
   "cell_type": "markdown",
   "metadata": {
    "id": "XvtxzoL8VWq7"
   },
   "source": []
  },
  {
   "cell_type": "code",
   "execution_count": null,
   "metadata": {
    "id": "2stB_bL3n1Uv"
   },
   "outputs": [],
   "source": [
    "# bin release_year and convert into dummies\n",
    "bin_year = [1916, 1974, 1991, 2001, 2006, 2008, 2010, 2012, 2013, 2014, 2017]\n",
    "year_range = ['1916-1974', '1974-1991', '1991-2001', '2001-2006','2006-2008','2008-2010','2010-2012','2012-2013',\n",
    "              '2013-2014','2014-2017']\n",
    "year_bin = pd.cut(TV['release_year'], bin_year, labels=year_range)\n",
    "d_year = pd.get_dummies(year_bin).astype(np.int64)"
   ]
  },
  {
   "cell_type": "code",
   "execution_count": null,
   "metadata": {
    "colab": {
     "base_uri": "https://localhost:8080/",
     "height": 1000
    },
    "executionInfo": {
     "elapsed": 16152,
     "status": "ok",
     "timestamp": 1599579420372,
     "user": {
      "displayName": "Alex A",
      "photoUrl": "",
      "userId": "11487044901198504808"
     },
     "user_tz": 420
    },
    "id": "MjdlBN_roOZO",
    "outputId": "e2488595-cd9b-4e68-9932-7e7d68a258d0"
   },
   "outputs": [
    {
     "name": "stdout",
     "output_type": "stream",
     "text": [
      "   video_id  cvt_per_day  weighted_categorical_position  \\\n",
      "0    385504   307127.606                              1   \n",
      "1    300175   270338.426                              1   \n",
      "2    361899   256165.867                              1   \n",
      "3    308314   196622.721                              3   \n",
      "4    307201   159841.652                              1   \n",
      "\n",
      "   weighted_horizontal_poition  imdb_votes    budget  boxoffice  imdb_rating  \\\n",
      "0                            3       69614  15000000   42930462        6.500   \n",
      "1                            3       46705  15000000    3301046        6.500   \n",
      "2                            3      197596  26000000   37397291        7.300   \n",
      "3                            4      356339  15000000   15700000        7.600   \n",
      "4                            3       46720  27220000    8551228        6.400   \n",
      "\n",
      "   duration_in_mins  metacritic_score  star_category  lionsgate  mgm  other  \\\n",
      "0           112.301                51          1.710          1    0      0   \n",
      "1            94.983                41          3.250          1    0      0   \n",
      "2           115.764                58          2.647          0    0      1   \n",
      "3           130.704                94          1.667          1    0      0   \n",
      "4           105.546                37          3.067          1    0      0   \n",
      "\n",
      "   paramount  G  NC-17  NotRated  PG  PG-13  R  BAFTA  Golden Globe  Oscar  \\\n",
      "0          0  0      0         0   0      1  0      0             0      0   \n",
      "1          0  0      0         0   0      0  1      0             0      0   \n",
      "2          0  0      0         0   0      0  1      0             0      0   \n",
      "3          0  0      0         0   0      0  1      0             0      1   \n",
      "4          0  0      0         0   0      0  1      0             0      0   \n",
      "\n",
      "   no award  other award  Action  Adventure  Animation  Comedy  Crime  \\\n",
      "0         0            1       1          0          0       0      0   \n",
      "1         1            0       0          0          0       1      1   \n",
      "2         0            1       0          0          0       0      1   \n",
      "3         0            0       1          0          0       0      0   \n",
      "4         0            1       0          0          0       0      1   \n",
      "\n",
      "   Documentary  Drama  Fantasy  Foreign/International  Horror  Independent  \\\n",
      "0            0      1        0                      0       0            0   \n",
      "1            0      0        0                      0       0            0   \n",
      "2            0      1        0                      0       0            0   \n",
      "3            1      1        0                      0       0            0   \n",
      "4            1      0        0                      0       0            0   \n",
      "\n",
      "   Kids & Family  Music  Musicals  Mystery  Romance  Sci-Fi  Sport  Thriller  \\\n",
      "0              0      0         0        0        0       0      0         1   \n",
      "1              0      0         0        0        0       0      0         1   \n",
      "2              0      0         0        0        0       0      0         0   \n",
      "3              0      0         0        1        0       0      0         1   \n",
      "4              0      0         0        1        0       0      0         1   \n",
      "\n",
      "   War  Western  Misc_genres  1916-1974  1974-1991  1991-2001  2001-2006  \\\n",
      "0    0        0            0          0          0          0          0   \n",
      "1    0        0            0          0          0          0          0   \n",
      "2    0        0            0          0          0          0          0   \n",
      "3    1        0            0          0          0          0          0   \n",
      "4    0        0            0          0          0          0          0   \n",
      "\n",
      "   2006-2008  2008-2010  2010-2012  2012-2013  2013-2014  2014-2017  \n",
      "0          0          0          0          1          0          0  \n",
      "1          0          0          0          1          0          0  \n",
      "2          0          0          1          0          0          0  \n",
      "3          1          0          0          0          0          0  \n",
      "4          0          0          0          1          0          0  \n"
     ]
    }
   ],
   "source": [
    "# new dataframe, drop the previous categorical features, add new dummy variables, check for null\n",
    "\n",
    "temp_tv=TV.drop(['import_id', 'mpaa','awards','genres', 'release_year'], axis=1)\n",
    "\n",
    "newTV = pd.concat([temp_tv, d_import_id, d_mpaa, d_awards, d_genres, d_year], axis=1)\n",
    "print(newTV.head())"
   ]
  },
  {
   "cell_type": "markdown",
   "metadata": {
    "id": "N76z14XL2f2n"
   },
   "source": [
    "## 2.2 Missing data"
   ]
  },
  {
   "cell_type": "markdown",
   "metadata": {
    "id": "Z5nrzz8i2kgs"
   },
   "source": [
    "Among the 10 numerical features (not include video_id), 4 features have over 25% of missing values (shown as '0', which is not possible in reality): budget, boxoffice, metacritic_score, star_category. 2 features have less than 10% of missing data: imdb_votes, imdb_rating.\n",
    "\n",
    "There are 3242 samples have at least one missing data."
   ]
  },
  {
   "cell_type": "markdown",
   "metadata": {
    "id": "yEsN836gC4Zw"
   },
   "source": [
    "Right Now we have to deal with the missing data. According to the data info, there is no Null value in our dataset.\n",
    "That's good, but we have to be catious, cause zero value can be a very good candidate for missing data. \n",
    "So we have the check the ratio of zero value in our numeric feature"
   ]
  },
  {
   "cell_type": "code",
   "execution_count": null,
   "metadata": {
    "colab": {
     "base_uri": "https://localhost:8080/",
     "height": 1000
    },
    "executionInfo": {
     "elapsed": 16147,
     "status": "ok",
     "timestamp": 1599579420373,
     "user": {
      "displayName": "Alex A",
      "photoUrl": "",
      "userId": "11487044901198504808"
     },
     "user_tz": 420
    },
    "id": "WxdTKOiMDdD5",
    "outputId": "c5a4a81b-b666-4166-b57e-89da5488894e"
   },
   "outputs": [
    {
     "name": "stdout",
     "output_type": "stream",
     "text": [
      "<class 'pandas.core.frame.DataFrame'>\n",
      "RangeIndex: 4226 entries, 0 to 4225\n",
      "Data columns (total 58 columns):\n",
      " #   Column                         Non-Null Count  Dtype  \n",
      "---  ------                         --------------  -----  \n",
      " 0   video_id                       4226 non-null   int64  \n",
      " 1   cvt_per_day                    4226 non-null   float64\n",
      " 2   weighted_categorical_position  4226 non-null   int64  \n",
      " 3   weighted_horizontal_poition    4226 non-null   int64  \n",
      " 4   imdb_votes                     3882 non-null   float64\n",
      " 5   budget                         1772 non-null   float64\n",
      " 6   boxoffice                      1032 non-null   float64\n",
      " 7   imdb_rating                    3882 non-null   float64\n",
      " 8   duration_in_mins               4226 non-null   float64\n",
      " 9   metacritic_score               1214 non-null   float64\n",
      " 10  star_category                  2380 non-null   float64\n",
      " 11  lionsgate                      4226 non-null   int64  \n",
      " 12  mgm                            4226 non-null   int64  \n",
      " 13  other                          4226 non-null   int64  \n",
      " 14  paramount                      4226 non-null   int64  \n",
      " 15  G                              4226 non-null   int64  \n",
      " 16  NC-17                          4226 non-null   int64  \n",
      " 17  NotRated                       4226 non-null   int64  \n",
      " 18  PG                             4226 non-null   int64  \n",
      " 19  PG-13                          4226 non-null   int64  \n",
      " 20  R                              4226 non-null   int64  \n",
      " 21  BAFTA                          4226 non-null   int64  \n",
      " 22  Golden Globe                   4226 non-null   int64  \n",
      " 23  Oscar                          4226 non-null   int64  \n",
      " 24  no award                       4226 non-null   int64  \n",
      " 25  other award                    4226 non-null   int64  \n",
      " 26  Action                         4226 non-null   int64  \n",
      " 27  Adventure                      4226 non-null   int64  \n",
      " 28  Animation                      4226 non-null   int64  \n",
      " 29  Comedy                         4226 non-null   int64  \n",
      " 30  Crime                          4226 non-null   int64  \n",
      " 31  Documentary                    4226 non-null   int64  \n",
      " 32  Drama                          4226 non-null   int64  \n",
      " 33  Fantasy                        4226 non-null   int64  \n",
      " 34  Foreign/International          4226 non-null   int64  \n",
      " 35  Horror                         4226 non-null   int64  \n",
      " 36  Independent                    4226 non-null   int64  \n",
      " 37  Kids & Family                  4226 non-null   int64  \n",
      " 38  Music                          4226 non-null   int64  \n",
      " 39  Musicals                       4226 non-null   int64  \n",
      " 40  Mystery                        4226 non-null   int64  \n",
      " 41  Romance                        4226 non-null   int64  \n",
      " 42  Sci-Fi                         4226 non-null   int64  \n",
      " 43  Sport                          4226 non-null   int64  \n",
      " 44  Thriller                       4226 non-null   int64  \n",
      " 45  War                            4226 non-null   int64  \n",
      " 46  Western                        4226 non-null   int64  \n",
      " 47  Misc_genres                    4226 non-null   int64  \n",
      " 48  1916-1974                      4226 non-null   int64  \n",
      " 49  1974-1991                      4226 non-null   int64  \n",
      " 50  1991-2001                      4226 non-null   int64  \n",
      " 51  2001-2006                      4226 non-null   int64  \n",
      " 52  2006-2008                      4226 non-null   int64  \n",
      " 53  2008-2010                      4226 non-null   int64  \n",
      " 54  2010-2012                      4226 non-null   int64  \n",
      " 55  2012-2013                      4226 non-null   int64  \n",
      " 56  2013-2014                      4226 non-null   int64  \n",
      " 57  2014-2017                      4226 non-null   int64  \n",
      "dtypes: float64(8), int64(50)\n",
      "memory usage: 1.9 MB\n",
      "None\n"
     ]
    }
   ],
   "source": [
    "newTV[['budget','boxoffice','metacritic_score', 'star_category','imdb_votes', 'imdb_rating']] = newTV[['budget','boxoffice','metacritic_score', 'star_category','imdb_votes', 'imdb_rating']].replace(0, np.nan)\n",
    "print(newTV.info())"
   ]
  },
  {
   "cell_type": "markdown",
   "metadata": {
    "id": "Q9BKknWx3k9l"
   },
   "source": [
    "Filling missing data with mean value"
   ]
  },
  {
   "cell_type": "code",
   "execution_count": null,
   "metadata": {
    "colab": {
     "base_uri": "https://localhost:8080/",
     "height": 1000
    },
    "executionInfo": {
     "elapsed": 16424,
     "status": "ok",
     "timestamp": 1599579420662,
     "user": {
      "displayName": "Alex A",
      "photoUrl": "",
      "userId": "11487044901198504808"
     },
     "user_tz": 420
    },
    "id": "Jf8oxZlD3ap5",
    "outputId": "fbdebbae-676e-431a-b812-c1f7cff481e0"
   },
   "outputs": [
    {
     "name": "stdout",
     "output_type": "stream",
     "text": [
      "<class 'pandas.core.frame.DataFrame'>\n",
      "RangeIndex: 4226 entries, 0 to 4225\n",
      "Data columns (total 58 columns):\n",
      " #   Column                         Non-Null Count  Dtype  \n",
      "---  ------                         --------------  -----  \n",
      " 0   video_id                       4226 non-null   int64  \n",
      " 1   cvt_per_day                    4226 non-null   float64\n",
      " 2   weighted_categorical_position  4226 non-null   int64  \n",
      " 3   weighted_horizontal_poition    4226 non-null   int64  \n",
      " 4   imdb_votes                     4226 non-null   float64\n",
      " 5   budget                         4226 non-null   float64\n",
      " 6   boxoffice                      4226 non-null   float64\n",
      " 7   imdb_rating                    4226 non-null   float64\n",
      " 8   duration_in_mins               4226 non-null   float64\n",
      " 9   metacritic_score               4226 non-null   float64\n",
      " 10  star_category                  4226 non-null   float64\n",
      " 11  lionsgate                      4226 non-null   int64  \n",
      " 12  mgm                            4226 non-null   int64  \n",
      " 13  other                          4226 non-null   int64  \n",
      " 14  paramount                      4226 non-null   int64  \n",
      " 15  G                              4226 non-null   int64  \n",
      " 16  NC-17                          4226 non-null   int64  \n",
      " 17  NotRated                       4226 non-null   int64  \n",
      " 18  PG                             4226 non-null   int64  \n",
      " 19  PG-13                          4226 non-null   int64  \n",
      " 20  R                              4226 non-null   int64  \n",
      " 21  BAFTA                          4226 non-null   int64  \n",
      " 22  Golden Globe                   4226 non-null   int64  \n",
      " 23  Oscar                          4226 non-null   int64  \n",
      " 24  no award                       4226 non-null   int64  \n",
      " 25  other award                    4226 non-null   int64  \n",
      " 26  Action                         4226 non-null   int64  \n",
      " 27  Adventure                      4226 non-null   int64  \n",
      " 28  Animation                      4226 non-null   int64  \n",
      " 29  Comedy                         4226 non-null   int64  \n",
      " 30  Crime                          4226 non-null   int64  \n",
      " 31  Documentary                    4226 non-null   int64  \n",
      " 32  Drama                          4226 non-null   int64  \n",
      " 33  Fantasy                        4226 non-null   int64  \n",
      " 34  Foreign/International          4226 non-null   int64  \n",
      " 35  Horror                         4226 non-null   int64  \n",
      " 36  Independent                    4226 non-null   int64  \n",
      " 37  Kids & Family                  4226 non-null   int64  \n",
      " 38  Music                          4226 non-null   int64  \n",
      " 39  Musicals                       4226 non-null   int64  \n",
      " 40  Mystery                        4226 non-null   int64  \n",
      " 41  Romance                        4226 non-null   int64  \n",
      " 42  Sci-Fi                         4226 non-null   int64  \n",
      " 43  Sport                          4226 non-null   int64  \n",
      " 44  Thriller                       4226 non-null   int64  \n",
      " 45  War                            4226 non-null   int64  \n",
      " 46  Western                        4226 non-null   int64  \n",
      " 47  Misc_genres                    4226 non-null   int64  \n",
      " 48  1916-1974                      4226 non-null   int64  \n",
      " 49  1974-1991                      4226 non-null   int64  \n",
      " 50  1991-2001                      4226 non-null   int64  \n",
      " 51  2001-2006                      4226 non-null   int64  \n",
      " 52  2006-2008                      4226 non-null   int64  \n",
      " 53  2008-2010                      4226 non-null   int64  \n",
      " 54  2010-2012                      4226 non-null   int64  \n",
      " 55  2012-2013                      4226 non-null   int64  \n",
      " 56  2013-2014                      4226 non-null   int64  \n",
      " 57  2014-2017                      4226 non-null   int64  \n",
      "dtypes: float64(8), int64(50)\n",
      "memory usage: 1.9 MB\n",
      "None\n"
     ]
    }
   ],
   "source": [
    "newTV1=newTV.copy()\n",
    "newTV1['boxoffice']=newTV1['boxoffice'].fillna(newTV1['boxoffice'].mean())\n",
    "newTV1['metacritic_score']=newTV1['metacritic_score'].fillna(newTV1['metacritic_score'].mean())\n",
    "newTV1['star_category']=newTV1['star_category'].fillna(newTV1['star_category'].mean())\n",
    "newTV1['imdb_votes']=newTV1['imdb_votes'].fillna(newTV1['imdb_votes'].mean())\n",
    "newTV1['imdb_rating']=newTV1['imdb_rating'].fillna(newTV1['imdb_rating'].mean())\n",
    "newTV1['budget']=newTV1['budget'].fillna(newTV1['budget'].mean())\n",
    "print(newTV1.info())"
   ]
  },
  {
   "cell_type": "markdown",
   "metadata": {
    "id": "2DcCzUhrRrJh"
   },
   "source": [
    "There are two most common used scaling method: normalization and standardscaler\n",
    "If there are no specific requirement for the range of output, we choose to use standardscaler"
   ]
  },
  {
   "cell_type": "markdown",
   "metadata": {
    "id": "XqN_tYv537ak"
   },
   "source": [
    "## 2.3 Feature scaling"
   ]
  },
  {
   "cell_type": "markdown",
   "metadata": {
    "id": "Qbgz-PeU3-PK"
   },
   "source": [
    "The impact of different scaling methods on the model performance is small. In the following model training and selections, the standard scaling (sc) data is used."
   ]
  },
  {
   "cell_type": "code",
   "execution_count": null,
   "metadata": {
    "colab": {
     "base_uri": "https://localhost:8080/",
     "height": 235
    },
    "executionInfo": {
     "elapsed": 16407,
     "status": "ok",
     "timestamp": 1599579420662,
     "user": {
      "displayName": "Alex A",
      "photoUrl": "",
      "userId": "11487044901198504808"
     },
     "user_tz": 420
    },
    "id": "ukI1bTdTPuZK",
    "outputId": "fdd0d4bb-cb8e-4676-9533-ae06e62fce16"
   },
   "outputs": [
    {
     "data": {
      "text/html": [
       "<div>\n",
       "<style scoped>\n",
       "    .dataframe tbody tr th:only-of-type {\n",
       "        vertical-align: middle;\n",
       "    }\n",
       "\n",
       "    .dataframe tbody tr th {\n",
       "        vertical-align: top;\n",
       "    }\n",
       "\n",
       "    .dataframe thead th {\n",
       "        text-align: right;\n",
       "    }\n",
       "</style>\n",
       "<table border=\"1\" class=\"dataframe\">\n",
       "  <thead>\n",
       "    <tr style=\"text-align: right;\">\n",
       "      <th></th>\n",
       "      <th>video_id</th>\n",
       "      <th>cvt_per_day</th>\n",
       "      <th>weighted_categorical_position</th>\n",
       "      <th>weighted_horizontal_poition</th>\n",
       "      <th>imdb_votes</th>\n",
       "      <th>budget</th>\n",
       "      <th>boxoffice</th>\n",
       "      <th>imdb_rating</th>\n",
       "      <th>duration_in_mins</th>\n",
       "      <th>metacritic_score</th>\n",
       "      <th>star_category</th>\n",
       "      <th>lionsgate</th>\n",
       "      <th>mgm</th>\n",
       "      <th>other</th>\n",
       "      <th>paramount</th>\n",
       "      <th>G</th>\n",
       "      <th>NC-17</th>\n",
       "      <th>NotRated</th>\n",
       "      <th>PG</th>\n",
       "      <th>PG-13</th>\n",
       "      <th>R</th>\n",
       "      <th>BAFTA</th>\n",
       "      <th>Golden Globe</th>\n",
       "      <th>Oscar</th>\n",
       "      <th>no award</th>\n",
       "      <th>other award</th>\n",
       "      <th>Action</th>\n",
       "      <th>Adventure</th>\n",
       "      <th>Animation</th>\n",
       "      <th>Comedy</th>\n",
       "      <th>Crime</th>\n",
       "      <th>Documentary</th>\n",
       "      <th>Drama</th>\n",
       "      <th>Fantasy</th>\n",
       "      <th>Foreign/International</th>\n",
       "      <th>Horror</th>\n",
       "      <th>Independent</th>\n",
       "      <th>Kids &amp; Family</th>\n",
       "      <th>Music</th>\n",
       "      <th>Musicals</th>\n",
       "      <th>Mystery</th>\n",
       "      <th>Romance</th>\n",
       "      <th>Sci-Fi</th>\n",
       "      <th>Sport</th>\n",
       "      <th>Thriller</th>\n",
       "      <th>War</th>\n",
       "      <th>Western</th>\n",
       "      <th>Misc_genres</th>\n",
       "      <th>1916-1974</th>\n",
       "      <th>1974-1991</th>\n",
       "      <th>1991-2001</th>\n",
       "      <th>2001-2006</th>\n",
       "      <th>2006-2008</th>\n",
       "      <th>2008-2010</th>\n",
       "      <th>2010-2012</th>\n",
       "      <th>2012-2013</th>\n",
       "      <th>2013-2014</th>\n",
       "      <th>2014-2017</th>\n",
       "    </tr>\n",
       "  </thead>\n",
       "  <tbody>\n",
       "    <tr>\n",
       "      <th>0</th>\n",
       "      <td>385504</td>\n",
       "      <td>307127.606</td>\n",
       "      <td>-1.106</td>\n",
       "      <td>-2.116</td>\n",
       "      <td>1.984</td>\n",
       "      <td>1.470</td>\n",
       "      <td>4.696</td>\n",
       "      <td>0.542</td>\n",
       "      <td>1.079</td>\n",
       "      <td>-0.630</td>\n",
       "      <td>0.033</td>\n",
       "      <td>1</td>\n",
       "      <td>0</td>\n",
       "      <td>0</td>\n",
       "      <td>0</td>\n",
       "      <td>0</td>\n",
       "      <td>0</td>\n",
       "      <td>0</td>\n",
       "      <td>0</td>\n",
       "      <td>1</td>\n",
       "      <td>0</td>\n",
       "      <td>0</td>\n",
       "      <td>0</td>\n",
       "      <td>0</td>\n",
       "      <td>0</td>\n",
       "      <td>1</td>\n",
       "      <td>1</td>\n",
       "      <td>0</td>\n",
       "      <td>0</td>\n",
       "      <td>0</td>\n",
       "      <td>0</td>\n",
       "      <td>0</td>\n",
       "      <td>1</td>\n",
       "      <td>0</td>\n",
       "      <td>0</td>\n",
       "      <td>0</td>\n",
       "      <td>0</td>\n",
       "      <td>0</td>\n",
       "      <td>0</td>\n",
       "      <td>0</td>\n",
       "      <td>0</td>\n",
       "      <td>0</td>\n",
       "      <td>0</td>\n",
       "      <td>0</td>\n",
       "      <td>1</td>\n",
       "      <td>0</td>\n",
       "      <td>0</td>\n",
       "      <td>0</td>\n",
       "      <td>0</td>\n",
       "      <td>0</td>\n",
       "      <td>0</td>\n",
       "      <td>0</td>\n",
       "      <td>0</td>\n",
       "      <td>0</td>\n",
       "      <td>0</td>\n",
       "      <td>1</td>\n",
       "      <td>0</td>\n",
       "      <td>0</td>\n",
       "    </tr>\n",
       "    <tr>\n",
       "      <th>1</th>\n",
       "      <td>300175</td>\n",
       "      <td>270338.426</td>\n",
       "      <td>-1.106</td>\n",
       "      <td>-2.116</td>\n",
       "      <td>1.258</td>\n",
       "      <td>1.470</td>\n",
       "      <td>-1.022</td>\n",
       "      <td>0.542</td>\n",
       "      <td>0.257</td>\n",
       "      <td>-1.997</td>\n",
       "      <td>3.434</td>\n",
       "      <td>1</td>\n",
       "      <td>0</td>\n",
       "      <td>0</td>\n",
       "      <td>0</td>\n",
       "      <td>0</td>\n",
       "      <td>0</td>\n",
       "      <td>0</td>\n",
       "      <td>0</td>\n",
       "      <td>0</td>\n",
       "      <td>1</td>\n",
       "      <td>0</td>\n",
       "      <td>0</td>\n",
       "      <td>0</td>\n",
       "      <td>1</td>\n",
       "      <td>0</td>\n",
       "      <td>0</td>\n",
       "      <td>0</td>\n",
       "      <td>0</td>\n",
       "      <td>1</td>\n",
       "      <td>1</td>\n",
       "      <td>0</td>\n",
       "      <td>0</td>\n",
       "      <td>0</td>\n",
       "      <td>0</td>\n",
       "      <td>0</td>\n",
       "      <td>0</td>\n",
       "      <td>0</td>\n",
       "      <td>0</td>\n",
       "      <td>0</td>\n",
       "      <td>0</td>\n",
       "      <td>0</td>\n",
       "      <td>0</td>\n",
       "      <td>0</td>\n",
       "      <td>1</td>\n",
       "      <td>0</td>\n",
       "      <td>0</td>\n",
       "      <td>0</td>\n",
       "      <td>0</td>\n",
       "      <td>0</td>\n",
       "      <td>0</td>\n",
       "      <td>0</td>\n",
       "      <td>0</td>\n",
       "      <td>0</td>\n",
       "      <td>0</td>\n",
       "      <td>1</td>\n",
       "      <td>0</td>\n",
       "      <td>0</td>\n",
       "    </tr>\n",
       "    <tr>\n",
       "      <th>2</th>\n",
       "      <td>361899</td>\n",
       "      <td>256165.867</td>\n",
       "      <td>-1.106</td>\n",
       "      <td>-2.116</td>\n",
       "      <td>6.043</td>\n",
       "      <td>3.108</td>\n",
       "      <td>3.898</td>\n",
       "      <td>1.100</td>\n",
       "      <td>1.243</td>\n",
       "      <td>0.327</td>\n",
       "      <td>2.102</td>\n",
       "      <td>0</td>\n",
       "      <td>0</td>\n",
       "      <td>1</td>\n",
       "      <td>0</td>\n",
       "      <td>0</td>\n",
       "      <td>0</td>\n",
       "      <td>0</td>\n",
       "      <td>0</td>\n",
       "      <td>0</td>\n",
       "      <td>1</td>\n",
       "      <td>0</td>\n",
       "      <td>0</td>\n",
       "      <td>0</td>\n",
       "      <td>0</td>\n",
       "      <td>1</td>\n",
       "      <td>0</td>\n",
       "      <td>0</td>\n",
       "      <td>0</td>\n",
       "      <td>0</td>\n",
       "      <td>1</td>\n",
       "      <td>0</td>\n",
       "      <td>1</td>\n",
       "      <td>0</td>\n",
       "      <td>0</td>\n",
       "      <td>0</td>\n",
       "      <td>0</td>\n",
       "      <td>0</td>\n",
       "      <td>0</td>\n",
       "      <td>0</td>\n",
       "      <td>0</td>\n",
       "      <td>0</td>\n",
       "      <td>0</td>\n",
       "      <td>0</td>\n",
       "      <td>0</td>\n",
       "      <td>0</td>\n",
       "      <td>0</td>\n",
       "      <td>0</td>\n",
       "      <td>0</td>\n",
       "      <td>0</td>\n",
       "      <td>0</td>\n",
       "      <td>0</td>\n",
       "      <td>0</td>\n",
       "      <td>0</td>\n",
       "      <td>1</td>\n",
       "      <td>0</td>\n",
       "      <td>0</td>\n",
       "      <td>0</td>\n",
       "    </tr>\n",
       "    <tr>\n",
       "      <th>3</th>\n",
       "      <td>308314</td>\n",
       "      <td>196622.721</td>\n",
       "      <td>-0.780</td>\n",
       "      <td>-2.032</td>\n",
       "      <td>11.077</td>\n",
       "      <td>1.470</td>\n",
       "      <td>0.767</td>\n",
       "      <td>1.309</td>\n",
       "      <td>1.952</td>\n",
       "      <td>5.250</td>\n",
       "      <td>-0.063</td>\n",
       "      <td>1</td>\n",
       "      <td>0</td>\n",
       "      <td>0</td>\n",
       "      <td>0</td>\n",
       "      <td>0</td>\n",
       "      <td>0</td>\n",
       "      <td>0</td>\n",
       "      <td>0</td>\n",
       "      <td>0</td>\n",
       "      <td>1</td>\n",
       "      <td>0</td>\n",
       "      <td>0</td>\n",
       "      <td>1</td>\n",
       "      <td>0</td>\n",
       "      <td>0</td>\n",
       "      <td>1</td>\n",
       "      <td>0</td>\n",
       "      <td>0</td>\n",
       "      <td>0</td>\n",
       "      <td>0</td>\n",
       "      <td>1</td>\n",
       "      <td>1</td>\n",
       "      <td>0</td>\n",
       "      <td>0</td>\n",
       "      <td>0</td>\n",
       "      <td>0</td>\n",
       "      <td>0</td>\n",
       "      <td>0</td>\n",
       "      <td>0</td>\n",
       "      <td>1</td>\n",
       "      <td>0</td>\n",
       "      <td>0</td>\n",
       "      <td>0</td>\n",
       "      <td>1</td>\n",
       "      <td>1</td>\n",
       "      <td>0</td>\n",
       "      <td>0</td>\n",
       "      <td>0</td>\n",
       "      <td>0</td>\n",
       "      <td>0</td>\n",
       "      <td>0</td>\n",
       "      <td>1</td>\n",
       "      <td>0</td>\n",
       "      <td>0</td>\n",
       "      <td>0</td>\n",
       "      <td>0</td>\n",
       "      <td>0</td>\n",
       "    </tr>\n",
       "    <tr>\n",
       "      <th>4</th>\n",
       "      <td>307201</td>\n",
       "      <td>159841.652</td>\n",
       "      <td>-1.106</td>\n",
       "      <td>-2.116</td>\n",
       "      <td>1.258</td>\n",
       "      <td>3.290</td>\n",
       "      <td>-0.265</td>\n",
       "      <td>0.472</td>\n",
       "      <td>0.758</td>\n",
       "      <td>-2.544</td>\n",
       "      <td>3.029</td>\n",
       "      <td>1</td>\n",
       "      <td>0</td>\n",
       "      <td>0</td>\n",
       "      <td>0</td>\n",
       "      <td>0</td>\n",
       "      <td>0</td>\n",
       "      <td>0</td>\n",
       "      <td>0</td>\n",
       "      <td>0</td>\n",
       "      <td>1</td>\n",
       "      <td>0</td>\n",
       "      <td>0</td>\n",
       "      <td>0</td>\n",
       "      <td>0</td>\n",
       "      <td>1</td>\n",
       "      <td>0</td>\n",
       "      <td>0</td>\n",
       "      <td>0</td>\n",
       "      <td>0</td>\n",
       "      <td>1</td>\n",
       "      <td>1</td>\n",
       "      <td>0</td>\n",
       "      <td>0</td>\n",
       "      <td>0</td>\n",
       "      <td>0</td>\n",
       "      <td>0</td>\n",
       "      <td>0</td>\n",
       "      <td>0</td>\n",
       "      <td>0</td>\n",
       "      <td>1</td>\n",
       "      <td>0</td>\n",
       "      <td>0</td>\n",
       "      <td>0</td>\n",
       "      <td>1</td>\n",
       "      <td>0</td>\n",
       "      <td>0</td>\n",
       "      <td>0</td>\n",
       "      <td>0</td>\n",
       "      <td>0</td>\n",
       "      <td>0</td>\n",
       "      <td>0</td>\n",
       "      <td>0</td>\n",
       "      <td>0</td>\n",
       "      <td>0</td>\n",
       "      <td>1</td>\n",
       "      <td>0</td>\n",
       "      <td>0</td>\n",
       "    </tr>\n",
       "  </tbody>\n",
       "</table>\n",
       "</div>"
      ],
      "text/plain": [
       "   video_id  cvt_per_day  weighted_categorical_position  \\\n",
       "0    385504   307127.606                         -1.106   \n",
       "1    300175   270338.426                         -1.106   \n",
       "2    361899   256165.867                         -1.106   \n",
       "3    308314   196622.721                         -0.780   \n",
       "4    307201   159841.652                         -1.106   \n",
       "\n",
       "   weighted_horizontal_poition  imdb_votes  budget  boxoffice  imdb_rating  \\\n",
       "0                       -2.116       1.984   1.470      4.696        0.542   \n",
       "1                       -2.116       1.258   1.470     -1.022        0.542   \n",
       "2                       -2.116       6.043   3.108      3.898        1.100   \n",
       "3                       -2.032      11.077   1.470      0.767        1.309   \n",
       "4                       -2.116       1.258   3.290     -0.265        0.472   \n",
       "\n",
       "   duration_in_mins  metacritic_score  star_category  lionsgate  mgm  other  \\\n",
       "0             1.079            -0.630          0.033          1    0      0   \n",
       "1             0.257            -1.997          3.434          1    0      0   \n",
       "2             1.243             0.327          2.102          0    0      1   \n",
       "3             1.952             5.250         -0.063          1    0      0   \n",
       "4             0.758            -2.544          3.029          1    0      0   \n",
       "\n",
       "   paramount  G  NC-17  NotRated  PG  PG-13  R  BAFTA  Golden Globe  Oscar  \\\n",
       "0          0  0      0         0   0      1  0      0             0      0   \n",
       "1          0  0      0         0   0      0  1      0             0      0   \n",
       "2          0  0      0         0   0      0  1      0             0      0   \n",
       "3          0  0      0         0   0      0  1      0             0      1   \n",
       "4          0  0      0         0   0      0  1      0             0      0   \n",
       "\n",
       "   no award  other award  Action  Adventure  Animation  Comedy  Crime  \\\n",
       "0         0            1       1          0          0       0      0   \n",
       "1         1            0       0          0          0       1      1   \n",
       "2         0            1       0          0          0       0      1   \n",
       "3         0            0       1          0          0       0      0   \n",
       "4         0            1       0          0          0       0      1   \n",
       "\n",
       "   Documentary  Drama  Fantasy  Foreign/International  Horror  Independent  \\\n",
       "0            0      1        0                      0       0            0   \n",
       "1            0      0        0                      0       0            0   \n",
       "2            0      1        0                      0       0            0   \n",
       "3            1      1        0                      0       0            0   \n",
       "4            1      0        0                      0       0            0   \n",
       "\n",
       "   Kids & Family  Music  Musicals  Mystery  Romance  Sci-Fi  Sport  Thriller  \\\n",
       "0              0      0         0        0        0       0      0         1   \n",
       "1              0      0         0        0        0       0      0         1   \n",
       "2              0      0         0        0        0       0      0         0   \n",
       "3              0      0         0        1        0       0      0         1   \n",
       "4              0      0         0        1        0       0      0         1   \n",
       "\n",
       "   War  Western  Misc_genres  1916-1974  1974-1991  1991-2001  2001-2006  \\\n",
       "0    0        0            0          0          0          0          0   \n",
       "1    0        0            0          0          0          0          0   \n",
       "2    0        0            0          0          0          0          0   \n",
       "3    1        0            0          0          0          0          0   \n",
       "4    0        0            0          0          0          0          0   \n",
       "\n",
       "   2006-2008  2008-2010  2010-2012  2012-2013  2013-2014  2014-2017  \n",
       "0          0          0          0          1          0          0  \n",
       "1          0          0          0          1          0          0  \n",
       "2          0          0          1          0          0          0  \n",
       "3          1          0          0          0          0          0  \n",
       "4          0          0          0          1          0          0  "
      ]
     },
     "execution_count": 23,
     "metadata": {
      "tags": []
     },
     "output_type": "execute_result"
    }
   ],
   "source": [
    "#Standard scaling\n",
    "scale_lst = ['weighted_categorical_position', 'weighted_horizontal_poition', 'budget','boxoffice', \n",
    "             'imdb_votes','imdb_rating','duration_in_mins', 'metacritic_score','star_category']\n",
    "newTV_sc = newTV1.copy()\n",
    "\n",
    "sc_scale = preprocessing.StandardScaler().fit(newTV_sc[scale_lst])\n",
    "newTV_sc[scale_lst] = sc_scale.transform(newTV_sc[scale_lst])\n",
    "newTV_sc.head()\n"
   ]
  },
  {
   "cell_type": "markdown",
   "metadata": {
    "id": "jVDrj0qG4KZp"
   },
   "source": []
  },
  {
   "cell_type": "code",
   "execution_count": null,
   "metadata": {
    "id": "KlvOiEqz4LWH"
   },
   "outputs": [],
   "source": [
    "# MinMax scaling\n",
    "newTV_mm = newTV.copy()\n",
    "mm_scale = preprocessing.MinMaxScaler().fit(newTV_mm[scale_lst])\n",
    "newTV_mm[scale_lst] = mm_scale.transform(newTV_mm[scale_lst])"
   ]
  },
  {
   "cell_type": "code",
   "execution_count": null,
   "metadata": {
    "id": "urBobvmf4Lvr"
   },
   "outputs": [],
   "source": [
    "# Robust scaling\n",
    "newTV_rs = newTV.copy()\n",
    "rs_scale = preprocessing.RobustScaler().fit(newTV_mm[scale_lst])\n",
    "newTV_rs[scale_lst] = rs_scale.transform(newTV_rs[scale_lst])"
   ]
  },
  {
   "cell_type": "markdown",
   "metadata": {
    "id": "TpuYM0uv4OnC"
   },
   "source": [
    "# Part 3: Model Training"
   ]
  },
  {
   "cell_type": "code",
   "execution_count": null,
   "metadata": {
    "id": "Z0wDBXROSAe-"
   },
   "outputs": [],
   "source": [
    "train, test = train_test_split(newTV_sc, test_size=0.15, random_state = 3)\n",
    "model_train_x = train.drop(['video_id', 'cvt_per_day'], axis = 1)\n",
    "model_test_x = test.drop(['video_id', 'cvt_per_day'], axis = 1)\n",
    "model_train_y = train['cvt_per_day']\n",
    "model_test_y = test['cvt_per_day']"
   ]
  },
  {
   "cell_type": "markdown",
   "metadata": {
    "id": "a715kJX94Ukb"
   },
   "source": [
    "### 3.1 Lasso linear regression"
   ]
  },
  {
   "cell_type": "code",
   "execution_count": null,
   "metadata": {
    "colab": {
     "base_uri": "https://localhost:8080/",
     "height": 329
    },
    "executionInfo": {
     "elapsed": 20117,
     "status": "ok",
     "timestamp": 1599579424398,
     "user": {
      "displayName": "Alex A",
      "photoUrl": "",
      "userId": "11487044901198504808"
     },
     "user_tz": 420
    },
    "id": "jXNJRu0eYgiv",
    "outputId": "315a8358-eace-4a1c-93cf-d3fb5670e1ab"
   },
   "outputs": [
    {
     "data": {
      "image/png": "[encoded data removed]",
      "text/plain": [
       "<Figure size 432x288 with 1 Axes>"
      ]
     },
     "metadata": {
      "needs_background": "light",
      "tags": []
     },
     "output_type": "display_data"
    },
    {
     "name": "stdout",
     "output_type": "stream",
     "text": [
      "The optimaized alpha and score of Lasso linear is: \n"
     ]
    },
    {
     "data": {
      "text/plain": [
       "(None, 122.06107238906554, 0.36457853302954246)"
      ]
     },
     "execution_count": 27,
     "metadata": {
      "tags": []
     },
     "output_type": "execute_result"
    }
   ],
   "source": [
    "from sklearn.model_selection import train_test_split\n",
    "from sklearn.linear_model import LinearRegression, Lasso, Ridge\n",
    "from sklearn.metrics import mean_squared_error, r2_score\n",
    "from math import sqrt\n",
    "\n",
    "lr_train, lr_validate = train_test_split(train, test_size=0.15, random_state = 0)\n",
    "\n",
    "lr_train_x = lr_train.drop(['video_id', 'cvt_per_day'], axis = 1)\n",
    "lr_validate_x = lr_validate.drop(['video_id', 'cvt_per_day'], axis = 1)\n",
    "lr_train_y = lr_train['cvt_per_day']\n",
    "lr_validate_y = lr_validate['cvt_per_day']\n",
    "\n",
    "alphas = np.logspace (-0.3, 2.5, num=150)\n",
    "# alphas= [0.000000001]\n",
    "scores = np.empty_like(alphas)\n",
    "opt_a = float('-inf')\n",
    "max_score = float('-inf')\n",
    "for i, a in enumerate(alphas):\n",
    "    lasso = Lasso()\n",
    "    lasso.set_params(alpha = a)\n",
    "    lasso.fit(lr_train_x, lr_train_y)\n",
    "    scores[i] = lasso.score(lr_validate_x, lr_validate_y)\n",
    "    if scores[i] > max_score:\n",
    "        max_score = scores[i]\n",
    "        opt_a = a\n",
    "        lasso_save = lasso\n",
    "plt.plot(alphas, scores, color='b', linestyle='dashed', marker='o',markerfacecolor='blue', markersize=6)\n",
    "plt.xlabel('alpha')\n",
    "plt.ylabel('score')\n",
    "plt.grid(True)\n",
    "plt.title('score vs. alpha')\n",
    "plt.show()\n",
    "model1_para = opt_a\n",
    "print ('The optimaized alpha and score of Lasso linear is: '), opt_a, max_score\n"
   ]
  },
  {
   "cell_type": "code",
   "execution_count": null,
   "metadata": {
    "colab": {
     "base_uri": "https://localhost:8080/",
     "height": 69
    },
    "executionInfo": {
     "elapsed": 20108,
     "status": "ok",
     "timestamp": 1599579424398,
     "user": {
      "displayName": "Alex A",
      "photoUrl": "",
      "userId": "11487044901198504808"
     },
     "user_tz": 420
    },
    "id": "w6o_T8LK6tp3",
    "outputId": "2d6948fb-df67-4b7f-b946-2ac068b96e07"
   },
   "outputs": [
    {
     "data": {
      "text/plain": [
       "Lasso(alpha=122.06107238906554, copy_X=True, fit_intercept=True, max_iter=1000,\n",
       "      normalize=False, positive=False, precompute=False, random_state=None,\n",
       "      selection='cyclic', tol=0.0001, warm_start=False)"
      ]
     },
     "execution_count": 28,
     "metadata": {
      "tags": []
     },
     "output_type": "execute_result"
    }
   ],
   "source": [
    "# combine the validate data and training data, use the optimal alpha, re-train the model\n",
    "lasso_f = Lasso()\n",
    "lasso_f.set_params(alpha = opt_a)\n",
    "lasso_f.fit(model_train_x, model_train_y)\n"
   ]
  },
  {
   "cell_type": "markdown",
   "metadata": {
    "id": "xwTJbv2oBvdm"
   },
   "source": [
    "## 3.2 Ridge linear regression"
   ]
  },
  {
   "cell_type": "code",
   "execution_count": null,
   "metadata": {
    "colab": {
     "base_uri": "https://localhost:8080/",
     "height": 329
    },
    "executionInfo": {
     "elapsed": 21320,
     "status": "ok",
     "timestamp": 1599579425615,
     "user": {
      "displayName": "Alex A",
      "photoUrl": "",
      "userId": "11487044901198504808"
     },
     "user_tz": 420
    },
    "id": "SbLyWw9U0ZO0",
    "outputId": "9d6e691a-727a-486a-d237-ba00b0982629"
   },
   "outputs": [
    {
     "data": {
      "image/png": "[encoded data removed]",
      "text/plain": [
       "<Figure size 432x288 with 1 Axes>"
      ]
     },
     "metadata": {
      "needs_background": "light",
      "tags": []
     },
     "output_type": "display_data"
    },
    {
     "name": "stdout",
     "output_type": "stream",
     "text": [
      "The optimaized alpha and score of Ridge linear is: \n"
     ]
    },
    {
     "data": {
      "text/plain": [
       "(None, 163.97026580002054, 0.35296043098491625)"
      ]
     },
     "execution_count": 29,
     "metadata": {
      "tags": []
     },
     "output_type": "execute_result"
    }
   ],
   "source": [
    "# Use the same training data set as Lasso (linear features)\n",
    "lr_train, lr_validate = train_test_split(train, test_size=0.15, random_state = 0)\n",
    "\n",
    "alphas = np.logspace (-10, 3, num=150)\n",
    "# alphas= [0.000000001]\n",
    "scores = np.empty_like(alphas)\n",
    "opt_a = float('-inf')\n",
    "max_score = float('-inf')\n",
    "for i, a in enumerate(alphas):\n",
    "    ridge = Ridge()\n",
    "    ridge.set_params(alpha = a)\n",
    "    ridge.fit(lr_train_x, lr_train_y)\n",
    "    scores[i] = ridge.score(lr_validate_x, lr_validate_y)\n",
    "    if scores[i] > max_score:\n",
    "        max_score = scores[i]\n",
    "        opt_a = a\n",
    "        ridge_save = ridge\n",
    "plt.plot(alphas, scores, color='r', linestyle='dashed', marker='o',markerfacecolor='r', markersize=6)\n",
    "plt.xlabel('alpha')\n",
    "plt.ylabel('score')\n",
    "plt.grid(True)\n",
    "plt.title('score vs. alpha')\n",
    "plt.show()\n",
    "model3_para = opt_a\n",
    "print ('The optimaized alpha and score of Ridge linear is: '), opt_a, max_score"
   ]
  },
  {
   "cell_type": "code",
   "execution_count": null,
   "metadata": {
    "colab": {
     "base_uri": "https://localhost:8080/",
     "height": 52
    },
    "executionInfo": {
     "elapsed": 21315,
     "status": "ok",
     "timestamp": 1599579425615,
     "user": {
      "displayName": "Alex A",
      "photoUrl": "",
      "userId": "11487044901198504808"
     },
     "user_tz": 420
    },
    "id": "XxEqMw4iE9XZ",
    "outputId": "dacd1a73-557f-4494-d93c-8ad1475d41ca"
   },
   "outputs": [
    {
     "data": {
      "text/plain": [
       "Ridge(alpha=163.97026580002054, copy_X=True, fit_intercept=True, max_iter=None,\n",
       "      normalize=False, random_state=None, solver='auto', tol=0.001)"
      ]
     },
     "execution_count": 30,
     "metadata": {
      "tags": []
     },
     "output_type": "execute_result"
    }
   ],
   "source": [
    "# add the 15% validate data, use the optimal alpha, re-train the model\n",
    "\n",
    "ridge_f = Ridge()\n",
    "ridge_f.set_params(alpha = opt_a)\n",
    "ridge_f.fit(model_train_x, model_train_y)\n",
    "\n",
    "# ridge_f is the Ridge model (linear feature), to be tested with test data."
   ]
  },
  {
   "cell_type": "markdown",
   "metadata": {
    "id": "T8k96l4UFhoy"
   },
   "source": [
    "##3.3 Random Forest"
   ]
  },
  {
   "cell_type": "code",
   "execution_count": null,
   "metadata": {
    "colab": {
     "base_uri": "https://localhost:8080/",
     "height": 363
    },
    "executionInfo": {
     "elapsed": 153521,
     "status": "ok",
     "timestamp": 1599579557826,
     "user": {
      "displayName": "Alex A",
      "photoUrl": "",
      "userId": "11487044901198504808"
     },
     "user_tz": 420
    },
    "id": "jpHVKREP5FmB",
    "outputId": "168a49e9-608e-4be8-ad5f-196d783be4dc"
   },
   "outputs": [
    {
     "data": {
      "text/plain": [
       "GridSearchCV(cv=5, error_score=nan,\n",
       "             estimator=RandomForestRegressor(bootstrap=True, ccp_alpha=0.0,\n",
       "                                             criterion='mse', max_depth=None,\n",
       "                                             max_features='sqrt',\n",
       "                                             max_leaf_nodes=None,\n",
       "                                             max_samples=None,\n",
       "                                             min_impurity_decrease=0.0,\n",
       "                                             min_impurity_split=None,\n",
       "                                             min_samples_leaf=1,\n",
       "                                             min_samples_split=2,\n",
       "                                             min_weight_fraction_leaf=0.0,\n",
       "                                             n_estimators=100, n_jobs=-1,\n",
       "                                             oob_score=False, random_state=2,\n",
       "                                             verbose=0, warm_start=False),\n",
       "             iid='deprecated', n_jobs=-1,\n",
       "             param_grid={'max_depth': [15, 16, 17, 18, 19, 20, 21],\n",
       "                         'n_estimators': [55, 56, 57, 58, 59, 60, 61, 62, 63,\n",
       "                                          64, 65]},\n",
       "             pre_dispatch='2*n_jobs', refit=True, return_train_score=False,\n",
       "             scoring=None, verbose=0)"
      ]
     },
     "execution_count": 31,
     "metadata": {
      "tags": []
     },
     "output_type": "execute_result"
    }
   ],
   "source": [
    "from sklearn.ensemble import RandomForestRegressor\n",
    "from sklearn.model_selection import GridSearchCV\n",
    "rf=RandomForestRegressor(random_state=2,max_features='sqrt',n_jobs=-1)\n",
    "param_grid={'n_estimators':[55,56,57,58,59,60,61,62,63,64,65],'max_depth':[15,16,17,18,19,20,21]}\n",
    "clf=GridSearchCV(estimator=rf,param_grid=param_grid,cv=5,refit=True,n_jobs=-1,pre_dispatch='2*n_jobs')\n",
    "clf.fit(model_train_x,model_train_y)"
   ]
  },
  {
   "cell_type": "code",
   "execution_count": null,
   "metadata": {
    "colab": {
     "base_uri": "https://localhost:8080/",
     "height": 1000
    },
    "executionInfo": {
     "elapsed": 637,
     "status": "ok",
     "timestamp": 1599579629509,
     "user": {
      "displayName": "Alex A",
      "photoUrl": "",
      "userId": "11487044901198504808"
     },
     "user_tz": 420
    },
    "id": "e6aNH8hemOZR",
    "outputId": "a318dc03-d439-4c2c-ed02-7af30f95bde8"
   },
   "outputs": [
    {
     "name": "stdout",
     "output_type": "stream",
     "text": [
      "{'mean_fit_time': array([0.49327374, 0.45413628, 0.44546776, 0.44052472, 0.4290019 ,\n",
      "       0.45595789, 0.45537376, 0.45683942, 0.4682735 , 0.48334198,\n",
      "       0.48260999, 0.43024635, 0.51298585, 0.55056677, 0.44564424,\n",
      "       0.44952397, 0.45132761, 0.4699944 , 0.49603438, 0.52859707,\n",
      "       0.55670214, 0.53219905, 0.44773054, 0.45727625, 0.45373793,\n",
      "       0.47575178, 0.54865017, 0.54499464, 0.5184835 , 0.5398715 ,\n",
      "       0.52893095, 0.537988  , 0.52892523, 0.44843826, 0.51809983,\n",
      "       0.60801435, 0.64838543, 0.76059761, 0.63393626, 0.53116283,\n",
      "       0.52605023, 0.54872603, 0.56271176, 0.59130998, 0.50186663,\n",
      "       0.52273531, 0.47798877, 0.51775808, 0.52916532, 0.54664507,\n",
      "       0.56799212, 0.55080342, 0.54528794, 0.59470696, 0.55003805,\n",
      "       0.51625304, 0.51902709, 0.90595484, 0.76867847, 0.78864665,\n",
      "       0.85188603, 0.65961819, 0.73216248, 0.947681  , 0.74583731,\n",
      "       0.73488245, 0.64639373, 0.51991987, 0.52915087, 0.55164762,\n",
      "       0.5277792 , 0.56629272, 0.54035239, 0.56479788, 0.57093997,\n",
      "       0.55849781, 0.59519973]), 'std_fit_time': array([0.05381592, 0.05826473, 0.01349203, 0.03621143, 0.05267658,\n",
      "       0.01046884, 0.06668381, 0.00448329, 0.01458039, 0.04395817,\n",
      "       0.04192307, 0.03272469, 0.0371249 , 0.01317268, 0.01271148,\n",
      "       0.01451378, 0.01214072, 0.01074312, 0.0457805 , 0.03688015,\n",
      "       0.01307788, 0.02763595, 0.01820031, 0.00661733, 0.01502891,\n",
      "       0.04366739, 0.06072621, 0.01533338, 0.05681861, 0.02614283,\n",
      "       0.05107582, 0.04186489, 0.04008906, 0.01129079, 0.03412209,\n",
      "       0.09427367, 0.07636277, 0.01294377, 0.09636801, 0.0529    ,\n",
      "       0.05612515, 0.04577107, 0.01724142, 0.04670161, 0.03966783,\n",
      "       0.04357668, 0.05758677, 0.05310512, 0.05938332, 0.04762021,\n",
      "       0.01154108, 0.0421739 , 0.03721831, 0.05662613, 0.0127999 ,\n",
      "       0.06268572, 0.04721111, 0.1884927 , 0.04733123, 0.01977737,\n",
      "       0.12431043, 0.09435216, 0.09966221, 0.0618062 , 0.0585435 ,\n",
      "       0.06015259, 0.10812745, 0.06259045, 0.03811159, 0.02022717,\n",
      "       0.03994016, 0.0276711 , 0.05151994, 0.00941847, 0.01051236,\n",
      "       0.05932006, 0.03814903]), 'mean_score_time': array([0.10483689, 0.10763726, 0.10721674, 0.10829778, 0.10881524,\n",
      "       0.11209464, 0.10825791, 0.11232233, 0.112641  , 0.108637  ,\n",
      "       0.10948567, 0.10838175, 0.10435028, 0.10425673, 0.10746627,\n",
      "       0.10666981, 0.11002488, 0.10993052, 0.1071723 , 0.10734968,\n",
      "       0.10589662, 0.1065104 , 0.10899472, 0.11226845, 0.10861654,\n",
      "       0.10777264, 0.10866103, 0.10645742, 0.11023111, 0.10714526,\n",
      "       0.11092262, 0.11304455, 0.1102283 , 0.10706291, 0.10618958,\n",
      "       0.11422114, 0.11242361, 0.11346149, 0.10827293, 0.10818853,\n",
      "       0.10994353, 0.11312666, 0.11349635, 0.10825377, 0.10933414,\n",
      "       0.10897479, 0.11070881, 0.11381211, 0.11594539, 0.11255641,\n",
      "       0.11140633, 0.11003771, 0.11161647, 0.11268172, 0.1126534 ,\n",
      "       0.10738239, 0.11079602, 0.11457725, 0.10992546, 0.11674933,\n",
      "       0.11082692, 0.11307197, 0.1129272 , 0.11145382, 0.11387296,\n",
      "       0.11111369, 0.11649489, 0.10905671, 0.1104866 , 0.1092062 ,\n",
      "       0.10924354, 0.10913472, 0.11058784, 0.10779314, 0.11518741,\n",
      "       0.11171675, 0.10962868]), 'std_score_time': array([0.00091656, 0.00317987, 0.00346902, 0.00308415, 0.00305311,\n",
      "       0.00783509, 0.00304127, 0.00480139, 0.00492126, 0.00303095,\n",
      "       0.00300767, 0.00238672, 0.00043003, 0.00058553, 0.00268806,\n",
      "       0.00283123, 0.0040112 , 0.0043134 , 0.00279883, 0.00436718,\n",
      "       0.00090002, 0.00437777, 0.00404223, 0.00323271, 0.00364363,\n",
      "       0.00304854, 0.00556604, 0.00332646, 0.0052031 , 0.00273773,\n",
      "       0.00375876, 0.00596975, 0.00649703, 0.00341684, 0.0018992 ,\n",
      "       0.00337552, 0.01095252, 0.00521779, 0.00492314, 0.00511235,\n",
      "       0.00560318, 0.00471336, 0.00384531, 0.00468722, 0.00259062,\n",
      "       0.00488296, 0.0015771 , 0.00519906, 0.00240112, 0.00419319,\n",
      "       0.00360191, 0.00530915, 0.0031221 , 0.00173555, 0.0052394 ,\n",
      "       0.00200865, 0.0049219 , 0.00287331, 0.00391449, 0.00495749,\n",
      "       0.00524245, 0.00563369, 0.00599697, 0.0057626 , 0.00726133,\n",
      "       0.00387105, 0.00720921, 0.00503691, 0.00333819, 0.00389329,\n",
      "       0.00525787, 0.00440337, 0.00416529, 0.00353144, 0.00665014,\n",
      "       0.00135248, 0.00469359]), 'param_max_depth': masked_array(data=[15, 15, 15, 15, 15, 15, 15, 15, 15, 15, 15, 16, 16, 16,\n",
      "                   16, 16, 16, 16, 16, 16, 16, 16, 17, 17, 17, 17, 17, 17,\n",
      "                   17, 17, 17, 17, 17, 18, 18, 18, 18, 18, 18, 18, 18, 18,\n",
      "                   18, 18, 19, 19, 19, 19, 19, 19, 19, 19, 19, 19, 19, 20,\n",
      "                   20, 20, 20, 20, 20, 20, 20, 20, 20, 20, 21, 21, 21, 21,\n",
      "                   21, 21, 21, 21, 21, 21, 21],\n",
      "             mask=[False, False, False, False, False, False, False, False,\n",
      "                   False, False, False, False, False, False, False, False,\n",
      "                   False, False, False, False, False, False, False, False,\n",
      "                   False, False, False, False, False, False, False, False,\n",
      "                   False, False, False, False, False, False, False, False,\n",
      "                   False, False, False, False, False, False, False, False,\n",
      "                   False, False, False, False, False, False, False, False,\n",
      "                   False, False, False, False, False, False, False, False,\n",
      "                   False, False, False, False, False, False, False, False,\n",
      "                   False, False, False, False, False],\n",
      "       fill_value='?',\n",
      "            dtype=object), 'param_n_estimators': masked_array(data=[55, 56, 57, 58, 59, 60, 61, 62, 63, 64, 65, 55, 56, 57,\n",
      "                   58, 59, 60, 61, 62, 63, 64, 65, 55, 56, 57, 58, 59, 60,\n",
      "                   61, 62, 63, 64, 65, 55, 56, 57, 58, 59, 60, 61, 62, 63,\n",
      "                   64, 65, 55, 56, 57, 58, 59, 60, 61, 62, 63, 64, 65, 55,\n",
      "                   56, 57, 58, 59, 60, 61, 62, 63, 64, 65, 55, 56, 57, 58,\n",
      "                   59, 60, 61, 62, 63, 64, 65],\n",
      "             mask=[False, False, False, False, False, False, False, False,\n",
      "                   False, False, False, False, False, False, False, False,\n",
      "                   False, False, False, False, False, False, False, False,\n",
      "                   False, False, False, False, False, False, False, False,\n",
      "                   False, False, False, False, False, False, False, False,\n",
      "                   False, False, False, False, False, False, False, False,\n",
      "                   False, False, False, False, False, False, False, False,\n",
      "                   False, False, False, False, False, False, False, False,\n",
      "                   False, False, False, False, False, False, False, False,\n",
      "                   False, False, False, False, False],\n",
      "       fill_value='?',\n",
      "            dtype=object), 'params': [{'max_depth': 15, 'n_estimators': 55}, {'max_depth': 15, 'n_estimators': 56}, {'max_depth': 15, 'n_estimators': 57}, {'max_depth': 15, 'n_estimators': 58}, {'max_depth': 15, 'n_estimators': 59}, {'max_depth': 15, 'n_estimators': 60}, {'max_depth': 15, 'n_estimators': 61}, {'max_depth': 15, 'n_estimators': 62}, {'max_depth': 15, 'n_estimators': 63}, {'max_depth': 15, 'n_estimators': 64}, {'max_depth': 15, 'n_estimators': 65}, {'max_depth': 16, 'n_estimators': 55}, {'max_depth': 16, 'n_estimators': 56}, {'max_depth': 16, 'n_estimators': 57}, {'max_depth': 16, 'n_estimators': 58}, {'max_depth': 16, 'n_estimators': 59}, {'max_depth': 16, 'n_estimators': 60}, {'max_depth': 16, 'n_estimators': 61}, {'max_depth': 16, 'n_estimators': 62}, {'max_depth': 16, 'n_estimators': 63}, {'max_depth': 16, 'n_estimators': 64}, {'max_depth': 16, 'n_estimators': 65}, {'max_depth': 17, 'n_estimators': 55}, {'max_depth': 17, 'n_estimators': 56}, {'max_depth': 17, 'n_estimators': 57}, {'max_depth': 17, 'n_estimators': 58}, {'max_depth': 17, 'n_estimators': 59}, {'max_depth': 17, 'n_estimators': 60}, {'max_depth': 17, 'n_estimators': 61}, {'max_depth': 17, 'n_estimators': 62}, {'max_depth': 17, 'n_estimators': 63}, {'max_depth': 17, 'n_estimators': 64}, {'max_depth': 17, 'n_estimators': 65}, {'max_depth': 18, 'n_estimators': 55}, {'max_depth': 18, 'n_estimators': 56}, {'max_depth': 18, 'n_estimators': 57}, {'max_depth': 18, 'n_estimators': 58}, {'max_depth': 18, 'n_estimators': 59}, {'max_depth': 18, 'n_estimators': 60}, {'max_depth': 18, 'n_estimators': 61}, {'max_depth': 18, 'n_estimators': 62}, {'max_depth': 18, 'n_estimators': 63}, {'max_depth': 18, 'n_estimators': 64}, {'max_depth': 18, 'n_estimators': 65}, {'max_depth': 19, 'n_estimators': 55}, {'max_depth': 19, 'n_estimators': 56}, {'max_depth': 19, 'n_estimators': 57}, {'max_depth': 19, 'n_estimators': 58}, {'max_depth': 19, 'n_estimators': 59}, {'max_depth': 19, 'n_estimators': 60}, {'max_depth': 19, 'n_estimators': 61}, {'max_depth': 19, 'n_estimators': 62}, {'max_depth': 19, 'n_estimators': 63}, {'max_depth': 19, 'n_estimators': 64}, {'max_depth': 19, 'n_estimators': 65}, {'max_depth': 20, 'n_estimators': 55}, {'max_depth': 20, 'n_estimators': 56}, {'max_depth': 20, 'n_estimators': 57}, {'max_depth': 20, 'n_estimators': 58}, {'max_depth': 20, 'n_estimators': 59}, {'max_depth': 20, 'n_estimators': 60}, {'max_depth': 20, 'n_estimators': 61}, {'max_depth': 20, 'n_estimators': 62}, {'max_depth': 20, 'n_estimators': 63}, {'max_depth': 20, 'n_estimators': 64}, {'max_depth': 20, 'n_estimators': 65}, {'max_depth': 21, 'n_estimators': 55}, {'max_depth': 21, 'n_estimators': 56}, {'max_depth': 21, 'n_estimators': 57}, {'max_depth': 21, 'n_estimators': 58}, {'max_depth': 21, 'n_estimators': 59}, {'max_depth': 21, 'n_estimators': 60}, {'max_depth': 21, 'n_estimators': 61}, {'max_depth': 21, 'n_estimators': 62}, {'max_depth': 21, 'n_estimators': 63}, {'max_depth': 21, 'n_estimators': 64}, {'max_depth': 21, 'n_estimators': 65}], 'split0_test_score': array([0.38603551, 0.38686771, 0.3865352 , 0.38523129, 0.38439345,\n",
      "       0.38454928, 0.38639783, 0.3851586 , 0.38585601, 0.38466918,\n",
      "       0.38255983, 0.4248057 , 0.42141191, 0.42343156, 0.42245713,\n",
      "       0.42631456, 0.42629559, 0.42564528, 0.42734908, 0.42237156,\n",
      "       0.42763721, 0.42669656, 0.37951393, 0.38296372, 0.38639826,\n",
      "       0.38634764, 0.3795929 , 0.37490227, 0.37744393, 0.37754006,\n",
      "       0.37772058, 0.38108928, 0.38158657, 0.39501558, 0.39773831,\n",
      "       0.39925332, 0.398672  , 0.39996505, 0.40375871, 0.39916584,\n",
      "       0.40260835, 0.40058591, 0.40726233, 0.40947165, 0.43649377,\n",
      "       0.43103148, 0.43370988, 0.43185711, 0.42491458, 0.42061327,\n",
      "       0.42328063, 0.42671448, 0.4289938 , 0.43316898, 0.43026418,\n",
      "       0.45699886, 0.45240741, 0.45351922, 0.44820397, 0.44749199,\n",
      "       0.44605314, 0.44818288, 0.45022642, 0.45161575, 0.45585527,\n",
      "       0.45219697, 0.44755163, 0.4469005 , 0.44804404, 0.44580387,\n",
      "       0.43868927, 0.43741886, 0.44007437, 0.43665706, 0.43430271,\n",
      "       0.43665771, 0.43271574]), 'split1_test_score': array([0.55134499, 0.549914  , 0.54245103, 0.55058286, 0.54953228,\n",
      "       0.54938704, 0.55148352, 0.55475378, 0.55665784, 0.56163086,\n",
      "       0.56360611, 0.538439  , 0.53937798, 0.53776695, 0.54864488,\n",
      "       0.54921406, 0.54868344, 0.55114163, 0.55425108, 0.55181478,\n",
      "       0.5497224 , 0.55080616, 0.54482287, 0.54269662, 0.54339096,\n",
      "       0.55365282, 0.55444052, 0.55310313, 0.55469997, 0.55854057,\n",
      "       0.5593533 , 0.55968501, 0.55835544, 0.5549545 , 0.55123366,\n",
      "       0.55279937, 0.56169852, 0.57018772, 0.56987822, 0.57189854,\n",
      "       0.57440276, 0.57766927, 0.57427264, 0.57722014, 0.56393451,\n",
      "       0.56612251, 0.56523666, 0.57376425, 0.57321397, 0.57361837,\n",
      "       0.57546086, 0.57507138, 0.57572288, 0.56878032, 0.57089849,\n",
      "       0.52274999, 0.52125788, 0.5193314 , 0.52694867, 0.52291088,\n",
      "       0.52339385, 0.52739751, 0.53095649, 0.53578834, 0.53602186,\n",
      "       0.53703467, 0.56476766, 0.56449942, 0.56391834, 0.57263436,\n",
      "       0.57216734, 0.57291417, 0.57435007, 0.57716944, 0.57773245,\n",
      "       0.58191352, 0.58458904]), 'split2_test_score': array([0.37811973, 0.37799359, 0.38269108, 0.38390383, 0.3840552 ,\n",
      "       0.38379745, 0.38086453, 0.37615182, 0.37552166, 0.37928078,\n",
      "       0.38211584, 0.3864569 , 0.38919652, 0.39215175, 0.39132171,\n",
      "       0.39180645, 0.39520743, 0.39379291, 0.39156093, 0.38971492,\n",
      "       0.38830454, 0.39100271, 0.41156992, 0.40961197, 0.41176868,\n",
      "       0.40884156, 0.4110655 , 0.40867982, 0.4079356 , 0.40552173,\n",
      "       0.40330957, 0.40289434, 0.40189547, 0.4022263 , 0.40255445,\n",
      "       0.40479287, 0.40701146, 0.40343179, 0.40294506, 0.40244545,\n",
      "       0.39970034, 0.4011217 , 0.40939548, 0.40894877, 0.41191531,\n",
      "       0.40973044, 0.4120467 , 0.41198358, 0.41350386, 0.41020923,\n",
      "       0.40767256, 0.40414377, 0.40089132, 0.40184477, 0.40605608,\n",
      "       0.3870728 , 0.38526727, 0.38780279, 0.38702892, 0.38593579,\n",
      "       0.38321642, 0.38159596, 0.37924197, 0.37737827, 0.37776331,\n",
      "       0.37765953, 0.41013787, 0.40903059, 0.41159607, 0.4075245 ,\n",
      "       0.40765215, 0.40428338, 0.40354992, 0.40065284, 0.39560326,\n",
      "       0.3941889 , 0.39379994]), 'split3_test_score': array([0.61793144, 0.61901674, 0.6220966 , 0.62164288, 0.61907615,\n",
      "       0.6173648 , 0.61693727, 0.61842737, 0.61768852, 0.618018  ,\n",
      "       0.62101193, 0.61541345, 0.61923674, 0.61929056, 0.62087578,\n",
      "       0.62338625, 0.62430385, 0.62412934, 0.62499678, 0.61945769,\n",
      "       0.61959322, 0.62121814, 0.65149964, 0.65268154, 0.65192651,\n",
      "       0.65176804, 0.6542309 , 0.6491835 , 0.64567702, 0.64687631,\n",
      "       0.64461213, 0.64691264, 0.64345876, 0.62133421, 0.62134689,\n",
      "       0.62519738, 0.62742   , 0.62649292, 0.62606338, 0.62440918,\n",
      "       0.62453897, 0.62188922, 0.62427196, 0.62674986, 0.62431284,\n",
      "       0.62840524, 0.6328694 , 0.63308947, 0.63531552, 0.63773016,\n",
      "       0.63410602, 0.63415655, 0.63244987, 0.63253957, 0.63046493,\n",
      "       0.62884546, 0.62749897, 0.62875412, 0.63079797, 0.63561368,\n",
      "       0.63707024, 0.63517241, 0.640101  , 0.63985515, 0.64159739,\n",
      "       0.64080885, 0.63000216, 0.62825994, 0.63307741, 0.63301443,\n",
      "       0.63507342, 0.63602811, 0.63421124, 0.63687095, 0.63311496,\n",
      "       0.63958588, 0.63787437]), 'split4_test_score': array([0.25951172, 0.25209597, 0.24814691, 0.23969203, 0.23767532,\n",
      "       0.23825758, 0.24251123, 0.23168885, 0.23377863, 0.23914297,\n",
      "       0.23768303, 0.26018077, 0.26782496, 0.26467395, 0.26250411,\n",
      "       0.26255011, 0.2624527 , 0.26546794, 0.25615551, 0.25983414,\n",
      "       0.26668315, 0.26409533, 0.25654188, 0.25294703, 0.24834368,\n",
      "       0.24471942, 0.24687046, 0.24965894, 0.25344081, 0.24526363,\n",
      "       0.23890052, 0.24020326, 0.24358264, 0.25151181, 0.24997285,\n",
      "       0.24786252, 0.23903766, 0.24669694, 0.25015148, 0.25319596,\n",
      "       0.24213771, 0.24293342, 0.25220813, 0.25345336, 0.30761232,\n",
      "       0.30830419, 0.30128004, 0.29893135, 0.29779535, 0.29142724,\n",
      "       0.29636255, 0.28544717, 0.28683374, 0.28816085, 0.28825917,\n",
      "       0.27974598, 0.28335797, 0.27975373, 0.27770582, 0.27287116,\n",
      "       0.27492382, 0.27729888, 0.26937605, 0.27237265, 0.27870047,\n",
      "       0.27876634, 0.26799461, 0.26734686, 0.26271838, 0.26203761,\n",
      "       0.26023202, 0.25891365, 0.26146724, 0.2553562 , 0.24805335,\n",
      "       0.25578934, 0.25918558]), 'mean_test_score': array([0.43858868, 0.4371776 , 0.43638417, 0.43621058, 0.43494648,\n",
      "       0.43467123, 0.43563888, 0.43323609, 0.43390053, 0.43654836,\n",
      "       0.43739535, 0.44505917, 0.44740962, 0.44746295, 0.44916072,\n",
      "       0.45065429, 0.4513886 , 0.45203542, 0.45086267, 0.44863862,\n",
      "       0.4503881 , 0.45076378, 0.44878965, 0.44818018, 0.44836562,\n",
      "       0.4490659 , 0.44924006, 0.44710553, 0.44783947, 0.44674846,\n",
      "       0.44477922, 0.44615691, 0.44577578, 0.44500848, 0.44456923,\n",
      "       0.44598109, 0.44676793, 0.44935488, 0.45055937, 0.45022299,\n",
      "       0.44867762, 0.4488399 , 0.45348211, 0.45516876, 0.46885375,\n",
      "       0.46871877, 0.46902853, 0.46992515, 0.46894865, 0.46671965,\n",
      "       0.46737652, 0.46510667, 0.46497832, 0.4648989 , 0.46518857,\n",
      "       0.45508262, 0.4539579 , 0.45383225, 0.45413707, 0.4529647 ,\n",
      "       0.45293149, 0.45392953, 0.45398038, 0.45540203, 0.45798766,\n",
      "       0.45729327, 0.46409078, 0.46320746, 0.46387085, 0.46420295,\n",
      "       0.46276284, 0.46191163, 0.46273057, 0.4613413 , 0.45776135,\n",
      "       0.46162707, 0.46163294]), 'std_test_score': array([0.12912374, 0.13119757, 0.13156019, 0.13521877, 0.13497784,\n",
      "       0.13432448, 0.13342585, 0.13802442, 0.1375591 , 0.13676021,\n",
      "       0.13826928, 0.12309738, 0.12189999, 0.12225236, 0.12512576,\n",
      "       0.12568933, 0.12557765, 0.12516742, 0.12883502, 0.12620108,\n",
      "       0.12378785, 0.1249471 , 0.13671676, 0.13755787, 0.1383148 ,\n",
      "       0.1409508 , 0.14166853, 0.13981845, 0.13776615, 0.14116247,\n",
      "       0.14259246, 0.14262808, 0.14048526, 0.13034528, 0.12996444,\n",
      "       0.13165071, 0.13630104, 0.13534917, 0.13390996, 0.13330787,\n",
      "       0.13705029, 0.13678159, 0.13292903, 0.13360406, 0.11269058,\n",
      "       0.11456007, 0.11724652, 0.11954115, 0.12071103, 0.12386976,\n",
      "       0.12184887, 0.12501046, 0.1244577 , 0.12256728, 0.12207476,\n",
      "       0.11844352, 0.11702216, 0.11794161, 0.12014765, 0.12264553,\n",
      "       0.12285459, 0.12223754, 0.12668456, 0.12655964, 0.12520883,\n",
      "       0.12512077, 0.12593696, 0.1257496 , 0.12812948, 0.13013569,\n",
      "       0.13137407, 0.1324894 , 0.13144361, 0.13486963, 0.13677232,\n",
      "       0.13687857, 0.13608946]), 'rank_test_score': array([67, 69, 71, 72, 74, 75, 73, 77, 76, 70, 68, 63, 56, 55, 46, 40, 37,\n",
      "       36, 38, 51, 42, 39, 49, 53, 52, 47, 45, 57, 54, 59, 65, 60, 62, 64,\n",
      "       66, 61, 58, 44, 41, 43, 50, 48, 33, 26,  4,  5,  2,  1,  3,  7,  6,\n",
      "        9, 10, 11,  8, 27, 30, 32, 28, 34, 35, 31, 29, 25, 22, 24, 13, 15,\n",
      "       14, 12, 16, 18, 17, 21, 23, 20, 19], dtype=int32)}\n"
     ]
    },
    {
     "data": {
      "image/png": "[encoded data removed]",
      "text/plain": [
       "<Figure size 432x288 with 1 Axes>"
      ]
     },
     "metadata": {
      "needs_background": "light",
      "tags": []
     },
     "output_type": "display_data"
    },
    {
     "name": "stdout",
     "output_type": "stream",
     "text": [
      "the best parameter for max_depth is: 19\n",
      "the best parameter for n_estimators is: 58\n"
     ]
    }
   ],
   "source": [
    "result=clf.cv_results_\n",
    "print(result)\n",
    "max_depth=[15,16,17,18,19,20,21]\n",
    "n_estimators=[55,56,57,58,59,60,61,62,63,64,65]\n",
    "scores=clf.cv_results_['mean_test_score'].reshape(len(max_depth),len(n_estimators))\n",
    "plt.figure(1)\n",
    "plt.subplot(1,1,1)\n",
    "for i,j in enumerate(max_depth):\n",
    "  plt.plot(n_estimators,scores[i],'-o',label='max_depths is: '+str(j))\n",
    "plt.legend(bbox_to_anchor=(1.05, 1), loc='upper left', borderaxespad=0.)\n",
    "plt.xlabel('n_estimators')\n",
    "plt.ylabel('mean_test_score')\n",
    "plt.show()\n",
    "print('the best parameter for max_depth is: '+str(clf.best_params_['max_depth']))\n",
    "print('the best parameter for n_estimators is: '+str(clf.best_params_['n_estimators']))\n",
    "\n"
   ]
  },
  {
   "cell_type": "markdown",
   "metadata": {
    "id": "4hOWiqrAGBT3"
   },
   "source": [
    "# Part 4: Model Evaluation"
   ]
  },
  {
   "cell_type": "markdown",
   "metadata": {
    "id": "OTvNuvgHgopJ"
   },
   "source": [
    "## 4.1: Evaluate all models"
   ]
  },
  {
   "cell_type": "code",
   "execution_count": null,
   "metadata": {
    "id": "hqKQ3G8r2Y7m"
   },
   "outputs": [],
   "source": [
    "train_x = model_train_x\n",
    "train_y = model_train_y\n",
    "test_x = model_test_x\n",
    "test_y = model_test_y"
   ]
  },
  {
   "cell_type": "code",
   "execution_count": null,
   "metadata": {
    "colab": {
     "base_uri": "https://localhost:8080/",
     "height": 69
    },
    "executionInfo": {
     "elapsed": 153506,
     "status": "ok",
     "timestamp": 1599579557827,
     "user": {
      "displayName": "Alex A",
      "photoUrl": "",
      "userId": "11487044901198504808"
     },
     "user_tz": 420
    },
    "id": "K3ln6hSBwwqg",
    "outputId": "51de9c75-7c78-42f4-9753-84e2770795b0"
   },
   "outputs": [
    {
     "name": "stdout",
     "output_type": "stream",
     "text": [
      "lasso score:  0.09954927178753703\n",
      "Mean square error of lasso:  238953191.99910036\n",
      "Root mean squared error of lasso: 15458.110880670392\n"
     ]
    }
   ],
   "source": [
    "#For lasso\n",
    "from sklearn.linear_model import Lasso\n",
    "from sklearn.metrics import  mean_squared_error\n",
    "lasso=Lasso(alpha=model1_para)\n",
    "lasso.fit(train_x,train_y)\n",
    "pred_y=lasso.predict(test_x)\n",
    "lasso_score=lasso.score(test_x,test_y)\n",
    "MSE_lasso=mean_squared_error(test_y,pred_y)\n",
    "RMSE_lasso=np.sqrt(MSE_lasso)\n",
    "print ('lasso score: ', lasso_score)\n",
    "print ('Mean square error of lasso: ', MSE_lasso)\n",
    "print ('Root mean squared error of lasso:', RMSE_lasso)"
   ]
  },
  {
   "cell_type": "code",
   "execution_count": null,
   "metadata": {
    "colab": {
     "base_uri": "https://localhost:8080/",
     "height": 69
    },
    "executionInfo": {
     "elapsed": 153502,
     "status": "ok",
     "timestamp": 1599579557828,
     "user": {
      "displayName": "Alex A",
      "photoUrl": "",
      "userId": "11487044901198504808"
     },
     "user_tz": 420
    },
    "id": "kGt2OK7dPo6V",
    "outputId": "17066a40-9e83-410f-c9eb-6b5316cf94fb"
   },
   "outputs": [
    {
     "name": "stdout",
     "output_type": "stream",
     "text": [
      "ridge score:  0.11371374943726809\n",
      "Mean square error of ridge:  235194355.4060952\n",
      "Root mean squared error of ridge: 15336.047580980414\n"
     ]
    }
   ],
   "source": [
    "#for ridge\n",
    "from sklearn.metrics import  mean_squared_error\n",
    "ridge=Ridge(alpha=model3_para)\n",
    "ridge.fit(train_x,train_y)\n",
    "pred_y=ridge.predict(test_x)\n",
    "ridge_score=ridge.score(test_x,test_y)\n",
    "MSE_ridge=mean_squared_error(test_y,pred_y)\n",
    "RMSE_ridge=np.sqrt(MSE_ridge)\n",
    "print ('ridge score: ', ridge_score)\n",
    "print ('Mean square error of ridge: ', MSE_ridge)\n",
    "print ('Root mean squared error of ridge:', RMSE_ridge)"
   ]
  },
  {
   "cell_type": "code",
   "execution_count": null,
   "metadata": {
    "colab": {
     "base_uri": "https://localhost:8080/",
     "height": 69
    },
    "executionInfo": {
     "elapsed": 154163,
     "status": "ok",
     "timestamp": 1599579558539,
     "user": {
      "displayName": "Alex A",
      "photoUrl": "",
      "userId": "11487044901198504808"
     },
     "user_tz": 420
    },
    "id": "uhuoqrdCRcDK",
    "outputId": "36beb0a0-ed6a-479a-acdb-00cba094d6fc"
   },
   "outputs": [
    {
     "name": "stdout",
     "output_type": "stream",
     "text": [
      "rf score:  0.5139461304918905\n",
      "Mean square error of rf:  128984429.64563024\n",
      "Root mean squared error of rf: 11357.131224285042\n"
     ]
    }
   ],
   "source": [
    "#For randomforest regression\n",
    "from sklearn.ensemble import RandomForestRegressor\n",
    "rf=RandomForestRegressor(n_estimators=clf.best_params_['n_estimators'],max_depth=clf.best_params_['max_depth'],max_features='sqrt',random_state=2,n_jobs=-1)\n",
    "rf.fit(train_x,train_y)\n",
    "pred_y=rf.predict(test_x)\n",
    "rf_score=rf.score(test_x,test_y)\n",
    "MSE_rf=mean_squared_error(test_y,pred_y)\n",
    "RMSE_rf=np.sqrt(MSE_rf)\n",
    "print ('rf score: ', rf_score)\n",
    "print ('Mean square error of rf: ', MSE_rf)\n",
    "print ('Root mean squared error of rf:', RMSE_rf)\n"
   ]
  },
  {
   "cell_type": "markdown",
   "metadata": {
    "id": "KOaL7VjchKND"
   },
   "source": [
    "## 4.2 Model comparison "
   ]
  },
  {
   "cell_type": "code",
   "execution_count": null,
   "metadata": {
    "colab": {
     "base_uri": "https://localhost:8080/",
     "height": 832
    },
    "executionInfo": {
     "elapsed": 154782,
     "status": "ok",
     "timestamp": 1599579559164,
     "user": {
      "displayName": "Alex A",
      "photoUrl": "",
      "userId": "11487044901198504808"
     },
     "user_tz": 420
    },
    "id": "4GS6BG2PS2oE",
    "outputId": "d3370c6f-94f1-46e9-c2e4-4af778576454"
   },
   "outputs": [
    {
     "data": {
      "image/png": "[encoded data removed]",
      "text/plain": [
       "<Figure size 432x288 with 1 Axes>"
      ]
     },
     "metadata": {
      "needs_background": "light",
      "tags": []
     },
     "output_type": "display_data"
    },
    {
     "data": {
      "image/png": "[encoded data removed]",
      "text/plain": [
       "<Figure size 432x288 with 1 Axes>"
      ]
     },
     "metadata": {
      "needs_background": "light",
      "tags": []
     },
     "output_type": "display_data"
    },
    {
     "data": {
      "image/png": "[encoded data removed]",
      "text/plain": [
       "<Figure size 432x288 with 1 Axes>"
      ]
     },
     "metadata": {
      "needs_background": "light",
      "tags": []
     },
     "output_type": "display_data"
    }
   ],
   "source": [
    "lst_score = [lasso_score, ridge_score, rf_score]\n",
    "MSE_lst =  [MSE_lasso, MSE_ridge, MSE_rf]\n",
    "RMSE_lst =  [RMSE_lasso, RMSE_ridge, RMSE_rf]\n",
    "model_lst = ['Lasso_linear', 'Ridge linear', 'Random forest']\n",
    "\n",
    "plt.figure(1)\n",
    "plt.plot(model_lst, lst_score, 'ro')\n",
    "plt.legend(['r-squre / score'])\n",
    "plt.xlabel('model names',fontsize =16)\n",
    "plt.ylabel('score / r square', fontsize =16)\n",
    "plt.grid(True)\n",
    "plt.show()\n",
    "\n",
    "plt.figure(2)\n",
    "plt.plot(model_lst, MSE_lst, 'g^')\n",
    "plt.legend(['mean square error (MSE)'])\n",
    "plt.xlabel('model names', fontsize =16)\n",
    "plt.ylabel('mean square error', fontsize =16)\n",
    "plt.grid(True)\n",
    "plt.show()\n",
    "\n",
    "plt.figure(3)\n",
    "plt.plot(model_lst, RMSE_lst, 'bs')\n",
    "plt.legend(['root mean square error (RMSE)'])\n",
    "plt.xlabel('model names', fontsize =16)\n",
    "plt.ylabel('root mean square error', fontsize =16)\n",
    "plt.grid(True)\n",
    "plt.show()"
   ]
  },
  {
   "cell_type": "markdown",
   "metadata": {
    "id": "ndOUSyTvhb7k"
   },
   "source": [
    "## 4.3 Feature importance"
   ]
  },
  {
   "cell_type": "markdown",
   "metadata": {
    "id": "be1mLaDvUOgD"
   },
   "source": [
    "According to MSE,RMSE and R square, the Random Forest Regression has the best performance"
   ]
  },
  {
   "cell_type": "code",
   "execution_count": null,
   "metadata": {
    "cellView": "code",
    "colab": {
     "base_uri": "https://localhost:8080/",
     "height": 407
    },
    "executionInfo": {
     "elapsed": 155210,
     "status": "ok",
     "timestamp": 1599579559596,
     "user": {
      "displayName": "Alex A",
      "photoUrl": "",
      "userId": "11487044901198504808"
     },
     "user_tz": 420
    },
    "id": "o2AyiWRnVVJj",
    "outputId": "b8f531e5-4e3d-4d88-d8d1-5b0f531cd58e"
   },
   "outputs": [
    {
     "data": {
      "image/png": "[encoded data removed]",
      "text/plain": [
       "<Figure size 432x288 with 1 Axes>"
      ]
     },
     "metadata": {
      "needs_background": "light",
      "tags": []
     },
     "output_type": "display_data"
    }
   ],
   "source": [
    "importances = rf.feature_importances_\n",
    "feature_name = train_x.columns.values\n",
    "indices = np.argsort(importances)[::-1]\n",
    "plt.figure(1)\n",
    "plt.bar(feature_name[indices[:20]], importances[indices[:20]])\n",
    "plt.xticks(rotation=90)\n",
    "plt.show()"
   ]
  }
 ],
 "metadata": {
  "colab": {
   "collapsed_sections": [],
   "name": "“Amazon prime.ipynb”的副本",
   "provenance": [
    {
     "file_id": "1CdP4hXW1bdcE9Uh2kXoXYkAkrFRG0xC8",
     "timestamp": 1617855140169
    },
    {
     "file_id": "1LKWHiw8-sVtlVILpZQ5K46-V5n3LKk8O",
     "timestamp": 1582848815767
    }
   ]
  },
  "kernelspec": {
   "display_name": "Python 3",
   "language": "python",
   "name": "python3"
  },
  "language_info": {
   "codemirror_mode": {
    "name": "ipython",
    "version": 3
   },
   "file_extension": ".py",
   "mimetype": "text/x-python",
   "name": "python",
   "nbconvert_exporter": "python",
   "pygments_lexer": "ipython3",
   "version": "3.8.3"
  }
 },
 "nbformat": 4,
 "nbformat_minor": 4
}
